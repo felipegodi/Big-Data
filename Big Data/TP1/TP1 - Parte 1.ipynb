{
 "cells": [
  {
   "cell_type": "markdown",
   "metadata": {
    "collapsed": true
   },
   "source": [
    "# Curso de Big Data\n",
    "\n",
    "## Trabajo Practico 1 - Parte 1"
   ]
  },
  {
   "cell_type": "markdown",
   "metadata": {},
   "source": [
    "### Reglas de formato y presentación\n",
    "- El trabajo debe estar bien comentado (utilizando #) para que el codigo sea facíl de entender por sus compañeros y profesores.\n",
    "\n",
    "- El mismo debe ser completado en este Jupyter Notebook y entregado como tal, es decir en un archivo .ipynb\n",
    "jsdjf"
   ]
  },
  {
   "cell_type": "markdown",
   "metadata": {},
   "source": [
    "### Fecha de entrega:\n",
    "Lunes 23/8 a las 23:59hs"
   ]
  },
  {
   "cell_type": "markdown",
   "metadata": {},
   "source": [
    "### Modalidad de entrega\n",
    "- Al finalizar el trabajo práctico deben hacer un último <i>commit</i> en su repositorio de GitHub con el mensaje “Entrega final del tp”. \n",
    "- Asegurense de haber creado una carpeta llamada TP1. Este Jupyter Notebook y el correspondiente al TP1 - Parte 2 deben estar dentro de esa carpeta.\n",
    "- Tambíen deben completar el link de su repositorio -para que pueda ser clonado y corregido- en la siguiente google sheet: https://docs.google.com/spreadsheets/d/1qaXCveEw3MjEwXQsu2zpqUz34BiaCMR0WapcsQ7jGs0/edit?usp=sharing\n",
    "- La última versión en el repositorio es la que será evaluada. Por lo que es importante que: \n",
    "    - No completen la google sheet hasta no haber terminado y estar seguros de que han hecho el <i>commit y push</i> a la versión final que quieren entregar. Debido a que se pueden tomar hasta 3 días de extensión a lo largo del curso, yo no corregiré sus tareas hasta no ver el link en la google sheet.\n",
    "    - No hagan nuevos <i>push</i> despues de habér entregado su versión final. Esto generaría confusión acerca de que versión es la que quieren que se les corrija. "
   ]
  },
  {
   "cell_type": "markdown",
   "metadata": {},
   "source": [
    "#### Ejercicio 1\n",
    "Este ejercicio simplemente busca repasar lo que aprendimos sobre definición de variables. Definí tres variables con un nombre combinado (al menos dos palabras): \n",
    "(a) Una siguiendo las buenas prácticas. \n",
    "(b) Hacer lo mismo de manera técnicamente correcta (sin error) pero sin seguir las buenas prácticas. \n",
    "(c) Intentar definir una variable con un nombre inacceptable (genera error)."
   ]
  },
  {
   "cell_type": "code",
   "execution_count": 1,
   "metadata": {},
   "outputs": [],
   "source": [
    "# Caso A (con buenas prácticas)\n",
    "alumnos_economia = 34"
   ]
  },
  {
   "cell_type": "code",
   "execution_count": 2,
   "metadata": {},
   "outputs": [],
   "source": [
    "# Caso B (sin buenas prácticas)\n",
    "AlumnosEconomia = 33"
   ]
  },
  {
   "cell_type": "code",
   "execution_count": 3,
   "metadata": {},
   "outputs": [
    {
     "ename": "SyntaxError",
     "evalue": "invalid syntax (<ipython-input-3-be7b993adf8d>, line 2)",
     "output_type": "error",
     "traceback": [
      "\u001b[0;36m  File \u001b[0;32m\"<ipython-input-3-be7b993adf8d>\"\u001b[0;36m, line \u001b[0;32m2\u001b[0m\n\u001b[0;31m    1alumnoseconomia = 32\u001b[0m\n\u001b[0m     ^\u001b[0m\n\u001b[0;31mSyntaxError\u001b[0m\u001b[0;31m:\u001b[0m invalid syntax\n"
     ]
    }
   ],
   "source": [
    "# Caso C (acá abajo debería saltar un error)\n",
    "1alumnoseconomia = 32"
   ]
  },
  {
   "cell_type": "markdown",
   "metadata": {},
   "source": [
    "#### Ejercicio 2\n",
    "Este ejercicio trata sobre la sustitución de variables y el uso de variables temporales para hacerlo. Las variables temporales y la sustitución de valores termina siendo útil en algunos loops. Los pasos a seguir son: (a) definir variables A y B (cuyos valores buscaremos invertir); (b) definir una variable temporal que resguarde el valor de B; (c) sustitución (asignar B igual a A y también A igual al valor original de B); (d) imprimir valores para verificar."
   ]
  },
  {
   "cell_type": "code",
   "execution_count": 4,
   "metadata": {},
   "outputs": [],
   "source": [
    "# (a) Definir variables A y B, \n",
    "a = 100\n",
    "b = 900"
   ]
  },
  {
   "cell_type": "code",
   "execution_count": 5,
   "metadata": {},
   "outputs": [],
   "source": [
    "# (b) Definir variable temporal \"tmp\" igual a B (la variable, no el valor)\n",
    "tmp = b"
   ]
  },
  {
   "cell_type": "code",
   "execution_count": 6,
   "metadata": {},
   "outputs": [],
   "source": [
    "# (c) Ahora sustituir variables: variable B igual a variable A (la variable, no el\n",
    "# valor) y viceversa.\n",
    "b = a\n",
    "a = tmp"
   ]
  },
  {
   "cell_type": "code",
   "execution_count": 7,
   "metadata": {},
   "outputs": [
    {
     "name": "stdout",
     "output_type": "stream",
     "text": [
      "900\n",
      "100\n",
      "900\n"
     ]
    }
   ],
   "source": [
    "# (d) Verifiquemos resultados: imprimir variables A y B\n",
    "print(a)\n",
    "print(b)\n",
    "print(tmp)"
   ]
  },
  {
   "cell_type": "markdown",
   "metadata": {},
   "source": [
    "#### Ejercicio 3\n",
    "Pongamos en práctica el uso de range() en un for loop. \n",
    "\n",
    "Construir un for loop usando un range(). El range debe ser entre los valores que quieran (con una diferencia mínima de 15 entre start y stop), en incrementos de 3 unidades. Dentro del loop, implementar una sentencia condicional que imprimar una leyenda indicando si el input es par o impar.\n",
    "\n",
    "Nota: busquen en internet como usar range(). Ej: https://pynative.com/python-range-function/#h-range-start-stop-step"
   ]
  },
  {
   "cell_type": "code",
   "execution_count": 8,
   "metadata": {},
   "outputs": [
    {
     "name": "stdout",
     "output_type": "stream",
     "text": [
      "1 es impar\n",
      "4 es par\n",
      "7 es impar\n",
      "10 es par\n",
      "13 es impar\n",
      "16 es par\n",
      "19 es impar\n",
      "22 es par\n",
      "25 es impar\n",
      "28 es par\n"
     ]
    }
   ],
   "source": [
    "# start = 1, stop = 30, saltos = 3\n",
    "# para cada uno de los numeros del rango definimos que si el numero es divisible por 2 que imprima que es par\n",
    "# caso contrario le indicamos que imprima que el numero es impar\n",
    "for x in range(1,30,3):\n",
    "    if x % 2 == 0:\n",
    "        print(x, \"es par\")\n",
    "    else:\n",
    "        print(x, \"es impar\")"
   ]
  },
  {
   "cell_type": "markdown",
   "metadata": {},
   "source": [
    "#### Ejercicio 4\n",
    "Para practicar el uso de condiciones lógicas, construyamos una sentencia condicional que verifique si un año es bisiesto o no. Para que un año sea bisiesto debe cumplir una de dos condiciones:\n",
    "\n",
    "(a) que sea divisible por 400; o\n",
    "\n",
    "(b) que sea divisible por 4 y no sea divisible por 100\n",
    "\n",
    "Nótese que son dos condiciones, dónde la segunda condición tiene dos componentes. Prueben la sentencia con una serie de valores para verificar que funcione."
   ]
  },
  {
   "cell_type": "code",
   "execution_count": 9,
   "metadata": {},
   "outputs": [
    {
     "name": "stdout",
     "output_type": "stream",
     "text": [
      "2000 Es un año bisiesto\n",
      "2001 No es un año bisiesto\n",
      "2002 No es un año bisiesto\n",
      "2003 No es un año bisiesto\n",
      "2004 Es un año bisiesto\n",
      "2005 No es un año bisiesto\n",
      "2006 No es un año bisiesto\n",
      "2007 No es un año bisiesto\n",
      "2008 Es un año bisiesto\n",
      "2009 No es un año bisiesto\n",
      "2010 No es un año bisiesto\n",
      "2011 No es un año bisiesto\n",
      "2012 Es un año bisiesto\n",
      "2013 No es un año bisiesto\n",
      "2014 No es un año bisiesto\n",
      "2015 No es un año bisiesto\n",
      "2016 Es un año bisiesto\n",
      "2017 No es un año bisiesto\n",
      "2018 No es un año bisiesto\n",
      "2019 No es un año bisiesto\n",
      "2020 Es un año bisiesto\n",
      "2021 No es un año bisiesto\n",
      "2022 No es un año bisiesto\n",
      "2023 No es un año bisiesto\n",
      "2024 Es un año bisiesto\n",
      "2025 No es un año bisiesto\n",
      "2026 No es un año bisiesto\n",
      "2027 No es un año bisiesto\n",
      "2028 Es un año bisiesto\n",
      "2029 No es un año bisiesto\n",
      "2030 No es un año bisiesto\n"
     ]
    }
   ],
   "source": [
    "# defino una variable para años que vaya entre 2000 y 2030 para verificar si son bisiestos o no, en cantidades y si funciona\n",
    "# definimos una sentencia condicional para ver si cumplen con por lo menos una de las dos condiciones para ser considerado año bisiesto\n",
    "# añadimos el comando else para que los años que no cumplen las condiciones sean clasificiados como años no bisiestos\n",
    "\n",
    "for ano in range(2000,2031):\n",
    "    if (ano % 400 == 0) or ((ano % 4 == 0) & (ano % 100 != 0)):\n",
    "        print(ano, \"Es un año bisiesto\")\n",
    "    else:\n",
    "        print(ano, \"No es un año bisiesto\")"
   ]
  },
  {
   "cell_type": "markdown",
   "metadata": {
    "collapsed": true
   },
   "source": [
    "#### Ejercicio 5\n",
    "Pongamos en práctica identificar el type() de cada variable. A continuación tenemos una lista con elementos de diferentes tipos. Construyan un for loop que itere sobre la lista e imprima un cartel indicando el tipo de dato que hay en cada caso.\n",
    "\n",
    "_Ayuda: hay por lo menos dos maneras de hacer esto. En una se usa una sentencia condicional, en otra hay que usar casteo para evitar un error. Ambas son aceptables._\n"
   ]
  },
  {
   "cell_type": "code",
   "execution_count": 10,
   "metadata": {},
   "outputs": [
    {
     "name": "stdout",
     "output_type": "stream",
     "text": [
      "45 : <class 'int'>\n",
      "89.0 : <class 'float'>\n",
      "True : <class 'bool'>\n",
      "hola : <class 'str'>\n"
     ]
    }
   ],
   "source": [
    "# Defino una lista\n",
    "lista = [45, 89.0, True, \"hola\"]\n",
    "#For loop que me diga que type es la variable\n",
    "for i in lista:\n",
    "    try:\n",
    "        print(i,\":\",type(i))\n",
    "    except:\n",
    "        print(\"error\")\n",
    "# incluimos el except para evitar un error"
   ]
  },
  {
   "cell_type": "markdown",
   "metadata": {},
   "source": [
    "#### Ejercicio 6\n",
    "Ahora definan ustedes una lista, en la que los primeros 4 elementos sean palabras (strings) la 5ta no sea string, y la 6ta sea string. Construyan un for loop que corra por la lista y que imprima la palabra y la longitud de la misma. Que el loop contenga una sentencia condicional que imprima un cartel \"Elemento no es un string: < el elemento > | < class del elemento >\" para los casos dónde el elemento evaluado no sea string.\n"
   ]
  },
  {
   "cell_type": "code",
   "execution_count": 11,
   "metadata": {},
   "outputs": [
    {
     "name": "stdout",
     "output_type": "stream",
     "text": [
      "Elemento: camison ; longitud: 7\n",
      "Elemento: malevola ; longitud: 8\n",
      "Elemento: mojojojo ; longitud: 8\n",
      "Elemento: godoh ; longitud: 5\n",
      "Elemento no es un string: < 54 > | <class 'int'>\n",
      "Elemento: sable ; longitud: 5\n"
     ]
    }
   ],
   "source": [
    "# Defino la lista con [str, str, str, str, int, str]\n",
    "x = [\"camison\", \"malevola\", \"mojojojo\", \"godoh\", 54, \"sable\"]\n",
    "\n",
    "# for loop para todos los elementos de la lista\n",
    "for i in x:\n",
    "    # if para separar si es string o no y que diga de que tipo es en el caso de que no lo sea\n",
    "    if type(i) == str:\n",
    "        print(\"Elemento:\", i, \";\", \"longitud:\", len(i))\n",
    "    else:\n",
    "        print(\"Elemento no es un string:\", \"<\",i,\">\", \"|\", type(i))"
   ]
  },
  {
   "cell_type": "markdown",
   "metadata": {},
   "source": [
    "#### Ejercicio 7\n",
    "Argentina tiene una representación legislativa proporcional en la cual la cantidad de diputados se debería ajustar según el tamaño de población de cada provincia. Otra característica de la representación legislativa del país es que hay una cantidad mínima de diputados por provincia (5). Esto genera un desbalance en la cantidad de ciudadanos por cada representante en el Congreso entre provincias.\n",
    "\n",
    "A continuación preparamos algunos ejemplos, dividiendo la población de cada provincia (según el Censo 2010) por la cantidad de representantes en el Congreso para esa misma jurisdicción. También armamos el equivalente para el total país y una lista con los valores provinciales.\n",
    "\n",
    "En este ejercicio les pedimos que construyan un for loop que itere sobre la lista definida y compare cada valor provincial contra el valor de proporcionalidad directa (la variable argentina). El loop debe imprimir una leyenda que indique si la provincia está sobrerepresentada, subrepresentada o con representación proporcional. Además, queremos que el mismo loop compare los valores de las provincias sobrerepresentadas y que guarde el valor de la provincia con mayor sobrerepresentación. Luego del loop impriman este valor así podemos ver que haya funcionado.\n",
    "\n",
    "_Ayuda: el ejercicio 2 les puede ayudar para resolver parte de este problema._\n",
    "\n",
    "Fuente para población: https://es.wikipedia.org/wiki/Demograf%C3%ADa_de_Argentina\n",
    "\n",
    "Fuente para representantes: https://es.wikipedia.org/wiki/C%C3%A1mara_de_Diputados_de_la_Naci%C3%B3n_Argentina"
   ]
  },
  {
   "cell_type": "code",
   "execution_count": 14,
   "metadata": {},
   "outputs": [],
   "source": [
    "# valor de referencia: proporcionalidad\n",
    "argentina = 40117096 / 256\n",
    "\n",
    "# creamos variables para una selección de jurisdicciones\n",
    "catamarca = 367820 / 5\n",
    "buenos_aires = 15594428 / 70\n",
    "misiones = 1097829 / 7\n",
    "tierra_fuego = 126190 / 5\n",
    "tucuman = 1592878 / 9\n",
    "\n",
    "# definimos la lista para iterar\n",
    "lista_provincias = [catamarca, buenos_aires, misiones, tierra_fuego, tucuman]\n",
    "#armamos una lista con los nombres de cada provincia \n",
    "nombres_provincias = [\"catamarca\", \"buenos_aires\", \"misiones\", \"tierra_fuego\", \"tucuman\"]"
   ]
  },
  {
   "cell_type": "code",
   "execution_count": 15,
   "metadata": {
    "scrolled": true
   },
   "outputs": [
    {
     "name": "stdout",
     "output_type": "stream",
     "text": [
      "catamarca sobrerepresentada\n",
      "buenos_aires subrepresentada\n",
      "misiones subrepresentada\n",
      "tierra_fuego sobrerepresentada\n",
      "tucuman subrepresentada\n",
      "mas sobrerepresentada : tierra_fuego 25238.0\n"
     ]
    }
   ],
   "source": [
    "#resuelvan acá:\n",
    "#for loop con if de por medio para filtrar entre sobrerepresentados, subrepresentados\n",
    "#y representados proporcionalmente. \n",
    "#Incluimos zip para poder matchear los elementos de ambas listas a partir de su posición\n",
    "#Armamos una variable temporal. En principio la definimos igual a argentina que es el valor referencia \n",
    "#como punto de partida para despues comparar con todas las provincias y asi obtener la mas sobrerepresentada.\n",
    "\n",
    "mas_sobrerepresentada = argentina\n",
    "for i, x in zip(lista_provincias, nombres_provincias):\n",
    "    if i < argentina: \n",
    "        print (x, \"sobrerepresentada\")\n",
    "        if mas_sobrerepresentada > i: \n",
    "            mas_sobrerepresentada = i\n",
    "            nombre_mas_sobrerepresentada = x \n",
    "    elif i > argentina: \n",
    "        print (x, \"subrepresentada\")\n",
    "    else: \n",
    "        print (x, \"representacion proporcional\")\n",
    "print (\"mas sobrerepresentada :\" , nombre_mas_sobrerepresentada ,  mas_sobrerepresentada)\n",
    "\n",
    "#en el loop indicamos que si el indice de representatividad de la provincia es \n",
    "#menor al de argentina entonces que imprima que la provinncia esta sobrerepresentada. \n",
    "#además dentro de las sobrerepresentadas se compara el indice de la provincia con el de la variable \n",
    "#temporal \"mas_sobrerepresentada\". En caso de estar mas sobrepresentada que la anteriormente definida \n",
    "#el valor de la variable pasa a ser el de esa provincia. \n",
    "#Luego si el indice de representatividad de la provincia es mayor al de argentina entonces que imprima \n",
    "#que la provinncia esta subrepresentada. \n",
    "#en caso de que la provincia no cumpla con ninguna de las dos condiciones annteriores se imprime\n",
    "#que la pronvincia tiene representacion proporcional "
   ]
  },
  {
   "cell_type": "markdown",
   "metadata": {},
   "source": [
    "#### Ejercicio 8\n",
    "Si buscáramos minimizar la subrepresentación de la provincia de Buenos Aires, ¿cuántos representantes debería tener según el Censo 2010? Usemos el mismo criterio de sub/sobrerepresentacion que en el ejercicio anterior: población sobre cantidad de representantes.\n",
    "\n",
    "Para responder esta pregunta construyan un while loop que incremente de a uno la cantidad de representantes de la Provincia hasta minimizar la subrepresentación. En cada iteración impriman un cartel que diga: \"Se agregó un representante, el total ahora es X\" dónde X es el número de representantes simulado."
   ]
  },
  {
   "cell_type": "code",
   "execution_count": 16,
   "metadata": {},
   "outputs": [],
   "source": [
    "# estos son los valores de la provincia\n",
    "representantes_pba = 70\n",
    "poblacion2010_pba = 15594428\n",
    "buenos_aires2 = poblacion2010_pba / representantes_pba\n",
    "\n",
    "# y el valor de referencia nacional\n",
    "argentina = 40117096 / 256"
   ]
  },
  {
   "cell_type": "code",
   "execution_count": 17,
   "metadata": {},
   "outputs": [
    {
     "name": "stdout",
     "output_type": "stream",
     "text": [
      "Se agregó un representante, el total ahora es 71\n",
      "Se agregó un representante, el total ahora es 72\n",
      "Se agregó un representante, el total ahora es 73\n",
      "Se agregó un representante, el total ahora es 74\n",
      "Se agregó un representante, el total ahora es 75\n",
      "Se agregó un representante, el total ahora es 76\n",
      "Se agregó un representante, el total ahora es 77\n",
      "Se agregó un representante, el total ahora es 78\n",
      "Se agregó un representante, el total ahora es 79\n",
      "Se agregó un representante, el total ahora es 80\n",
      "Se agregó un representante, el total ahora es 81\n",
      "Se agregó un representante, el total ahora es 82\n",
      "Se agregó un representante, el total ahora es 83\n",
      "Se agregó un representante, el total ahora es 84\n",
      "Se agregó un representante, el total ahora es 85\n",
      "Se agregó un representante, el total ahora es 86\n",
      "Se agregó un representante, el total ahora es 87\n",
      "Se agregó un representante, el total ahora es 88\n",
      "Se agregó un representante, el total ahora es 89\n",
      "Se agregó un representante, el total ahora es 90\n",
      "Se agregó un representante, el total ahora es 91\n",
      "Se agregó un representante, el total ahora es 92\n",
      "Se agregó un representante, el total ahora es 93\n",
      "Se agregó un representante, el total ahora es 94\n",
      "Se agregó un representante, el total ahora es 95\n",
      "Se agregó un representante, el total ahora es 96\n",
      "Se agregó un representante, el total ahora es 97\n",
      "Se agregó un representante, el total ahora es 98\n",
      "Se agregó un representante, el total ahora es 99\n"
     ]
    }
   ],
   "source": [
    "# Buscamos que Buenos Aires tenga la mayor cantidadad de representantes siempre y cuando\n",
    "# se mantenga subrepresentada \n",
    "# Definimos un while loop en el que mientras que buenos aires está subrepresentada se le suman representantes hasta \n",
    "#minimizar la subrepresentacion\n",
    "while buenos_aires2 > argentina:\n",
    "    representantes_pba += 1\n",
    "    # Defino denuevo la variable buenos_aires2 para que se actualice a 1 representante más\n",
    "    buenos_aires2 = poblacion2010_pba / representantes_pba\n",
    "    # La siguente sentencia condicional es para que es buenos aires no pase a tener representacion proporcional \n",
    "    #o pase a estar sobrerepresentada no pasarme de rosca. \n",
    "    if buenos_aires2 < argentina:\n",
    "        # Si nos pasamos, le resta 1\n",
    "        representantes_pba -= 1\n",
    "        # Calcula denuevo la variable después del ajuste\n",
    "        buenos_aires2 = poblacion2010_pba / representantes_pba\n",
    "        # Como se activó el if, ya minimizamos el valor para que quede lo menos subrepresentada posible y \n",
    "        #añadimos break para que corte el loop una vez que se alcance el minimo de subrepresentacion. \n",
    "        break\n",
    "        # Sale después del if para que no notifique el que se suma demás\n",
    "    print(\"Se agregó un representante, el total ahora es\", representantes_pba)"
   ]
  }
 ],
 "metadata": {
  "anaconda-cloud": {},
  "kernelspec": {
   "display_name": "Python 3",
   "language": "python",
   "name": "python3"
  },
  "language_info": {
   "codemirror_mode": {
    "name": "ipython",
    "version": 3
   },
   "file_extension": ".py",
   "mimetype": "text/x-python",
   "name": "python",
   "nbconvert_exporter": "python",
   "pygments_lexer": "ipython3",
   "version": "3.8.8"
  }
 },
 "nbformat": 4,
 "nbformat_minor": 2
}
