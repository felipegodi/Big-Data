{
 "cells": [
  {
   "cell_type": "code",
   "execution_count": 1,
   "id": "186fdc8f",
   "metadata": {},
   "outputs": [],
   "source": [
    "import os\n",
    "import re\n",
    "import string\n",
    "import pandas as pd\n",
    "import matplotlib.pyplot as plt\n",
    "from datetime import datetime\n",
    "import seaborn as sns\n",
    "import numpy as np\n",
    "from sklearn import datasets\n",
    "from sklearn import preprocessing\n",
    "from sklearn.linear_model import LogisticRegression\n",
    "from sklearn.model_selection import train_test_split\n",
    "from sklearn.metrics import confusion_matrix\n",
    "from sklearn.metrics import accuracy_score \n",
    "from sklearn.metrics import roc_curve\n",
    "from sklearn.metrics import roc_auc_score\n",
    "from sklearn.metrics import RocCurveDisplay\n",
    "from sklearn.metrics import plot_roc_curve\n",
    "from sklearn.discriminant_analysis import LinearDiscriminantAnalysis\n",
    "from sklearn.discriminant_analysis import LinearDiscriminantAnalysis\n",
    "from sklearn.discriminant_analysis import QuadraticDiscriminantAnalysis\n",
    "from sklearn.neighbors import KNeighborsClassifier\n",
    "from scipy.special import expit"
   ]
  },
  {
   "cell_type": "markdown",
   "id": "2d417feb",
   "metadata": {},
   "source": [
    "# 2"
   ]
  },
  {
   "cell_type": "code",
   "execution_count": 2,
   "id": "51d78686",
   "metadata": {},
   "outputs": [],
   "source": [
    "# Cargo el excel de la EPH\n",
    "eph = pd.read_excel(\"usu_individual_T121.xlsx\")"
   ]
  },
  {
   "cell_type": "markdown",
   "id": "4d9d4179",
   "metadata": {},
   "source": [
    "### a)"
   ]
  },
  {
   "cell_type": "code",
   "execution_count": 3,
   "id": "4ce036a4",
   "metadata": {},
   "outputs": [],
   "source": [
    "# Me quedo solo con los aglomerados de CABA y GBA\n",
    "eph.drop(eph[(eph['AGLOMERADO'] != 32) & (eph[\"AGLOMERADO\"] != 33)].index, inplace = True)\n",
    "eph.reset_index(inplace = True, drop = True)"
   ]
  },
  {
   "cell_type": "code",
   "execution_count": 4,
   "id": "48ccee57",
   "metadata": {
    "scrolled": false
   },
   "outputs": [
    {
     "data": {
      "text/html": [
       "<div>\n",
       "<style scoped>\n",
       "    .dataframe tbody tr th:only-of-type {\n",
       "        vertical-align: middle;\n",
       "    }\n",
       "\n",
       "    .dataframe tbody tr th {\n",
       "        vertical-align: top;\n",
       "    }\n",
       "\n",
       "    .dataframe thead th {\n",
       "        text-align: right;\n",
       "    }\n",
       "</style>\n",
       "<table border=\"1\" class=\"dataframe\">\n",
       "  <thead>\n",
       "    <tr style=\"text-align: right;\">\n",
       "      <th></th>\n",
       "      <th>CODUSU</th>\n",
       "      <th>ANO4</th>\n",
       "      <th>TRIMESTRE</th>\n",
       "      <th>NRO_HOGAR</th>\n",
       "      <th>COMPONENTE</th>\n",
       "      <th>H15</th>\n",
       "      <th>REGION</th>\n",
       "      <th>MAS_500</th>\n",
       "      <th>AGLOMERADO</th>\n",
       "      <th>PONDERA</th>\n",
       "      <th>...</th>\n",
       "      <th>PDECIFR</th>\n",
       "      <th>ADECIFR</th>\n",
       "      <th>IPCF</th>\n",
       "      <th>DECCFR</th>\n",
       "      <th>IDECCFR</th>\n",
       "      <th>RDECCFR</th>\n",
       "      <th>GDECCFR</th>\n",
       "      <th>PDECCFR</th>\n",
       "      <th>ADECCFR</th>\n",
       "      <th>PONDIH</th>\n",
       "    </tr>\n",
       "  </thead>\n",
       "  <tbody>\n",
       "    <tr>\n",
       "      <th>2883</th>\n",
       "      <td>TQRMNORRWHLNQSCDEIJAH00651115</td>\n",
       "      <td>2021</td>\n",
       "      <td>1</td>\n",
       "      <td>1</td>\n",
       "      <td>4</td>\n",
       "      <td>0</td>\n",
       "      <td>1</td>\n",
       "      <td>S</td>\n",
       "      <td>33</td>\n",
       "      <td>2334</td>\n",
       "      <td>...</td>\n",
       "      <td>0.0</td>\n",
       "      <td>12.0</td>\n",
       "      <td>0.0</td>\n",
       "      <td>12.0</td>\n",
       "      <td>0.0</td>\n",
       "      <td>12.0</td>\n",
       "      <td>12.0</td>\n",
       "      <td>0.0</td>\n",
       "      <td>12.0</td>\n",
       "      <td>0</td>\n",
       "    </tr>\n",
       "    <tr>\n",
       "      <th>2652</th>\n",
       "      <td>TQRMNOQYVHJNOOCDEIJAH00693099</td>\n",
       "      <td>2021</td>\n",
       "      <td>1</td>\n",
       "      <td>1</td>\n",
       "      <td>2</td>\n",
       "      <td>1</td>\n",
       "      <td>1</td>\n",
       "      <td>S</td>\n",
       "      <td>33</td>\n",
       "      <td>2023</td>\n",
       "      <td>...</td>\n",
       "      <td>0.0</td>\n",
       "      <td>6.0</td>\n",
       "      <td>15225.0</td>\n",
       "      <td>4.0</td>\n",
       "      <td>0.0</td>\n",
       "      <td>4.0</td>\n",
       "      <td>4.0</td>\n",
       "      <td>0.0</td>\n",
       "      <td>4.0</td>\n",
       "      <td>3353</td>\n",
       "    </tr>\n",
       "    <tr>\n",
       "      <th>2269</th>\n",
       "      <td>TQRMNOQUTHLMMSCDEIJAH00650887</td>\n",
       "      <td>2021</td>\n",
       "      <td>1</td>\n",
       "      <td>1</td>\n",
       "      <td>4</td>\n",
       "      <td>1</td>\n",
       "      <td>1</td>\n",
       "      <td>S</td>\n",
       "      <td>33</td>\n",
       "      <td>2495</td>\n",
       "      <td>...</td>\n",
       "      <td>0.0</td>\n",
       "      <td>7.0</td>\n",
       "      <td>17500.0</td>\n",
       "      <td>4.0</td>\n",
       "      <td>0.0</td>\n",
       "      <td>4.0</td>\n",
       "      <td>4.0</td>\n",
       "      <td>0.0</td>\n",
       "      <td>5.0</td>\n",
       "      <td>5491</td>\n",
       "    </tr>\n",
       "    <tr>\n",
       "      <th>3150</th>\n",
       "      <td>TQRMNORUXHLMLOCDEIJAH00650806</td>\n",
       "      <td>2021</td>\n",
       "      <td>1</td>\n",
       "      <td>1</td>\n",
       "      <td>1</td>\n",
       "      <td>1</td>\n",
       "      <td>1</td>\n",
       "      <td>S</td>\n",
       "      <td>33</td>\n",
       "      <td>2516</td>\n",
       "      <td>...</td>\n",
       "      <td>0.0</td>\n",
       "      <td>7.0</td>\n",
       "      <td>39750.0</td>\n",
       "      <td>8.0</td>\n",
       "      <td>0.0</td>\n",
       "      <td>8.0</td>\n",
       "      <td>8.0</td>\n",
       "      <td>0.0</td>\n",
       "      <td>8.0</td>\n",
       "      <td>4071</td>\n",
       "    </tr>\n",
       "    <tr>\n",
       "      <th>2277</th>\n",
       "      <td>TQRMNOQUTHMMONCDEIJAH00701479</td>\n",
       "      <td>2021</td>\n",
       "      <td>1</td>\n",
       "      <td>1</td>\n",
       "      <td>5</td>\n",
       "      <td>0</td>\n",
       "      <td>1</td>\n",
       "      <td>S</td>\n",
       "      <td>33</td>\n",
       "      <td>4427</td>\n",
       "      <td>...</td>\n",
       "      <td>0.0</td>\n",
       "      <td>2.0</td>\n",
       "      <td>4200.0</td>\n",
       "      <td>1.0</td>\n",
       "      <td>0.0</td>\n",
       "      <td>1.0</td>\n",
       "      <td>1.0</td>\n",
       "      <td>0.0</td>\n",
       "      <td>1.0</td>\n",
       "      <td>7221</td>\n",
       "    </tr>\n",
       "    <tr>\n",
       "      <th>191</th>\n",
       "      <td>TQRMNOPWRHJLMRCDEIIAD00698182</td>\n",
       "      <td>2021</td>\n",
       "      <td>1</td>\n",
       "      <td>1</td>\n",
       "      <td>4</td>\n",
       "      <td>0</td>\n",
       "      <td>1</td>\n",
       "      <td>S</td>\n",
       "      <td>32</td>\n",
       "      <td>3041</td>\n",
       "      <td>...</td>\n",
       "      <td>0.0</td>\n",
       "      <td>9.0</td>\n",
       "      <td>51375.0</td>\n",
       "      <td>9.0</td>\n",
       "      <td>0.0</td>\n",
       "      <td>9.0</td>\n",
       "      <td>9.0</td>\n",
       "      <td>0.0</td>\n",
       "      <td>7.0</td>\n",
       "      <td>7288</td>\n",
       "    </tr>\n",
       "    <tr>\n",
       "      <th>968</th>\n",
       "      <td>TQRMNOWSSHKOKOCDEIIAD00655828</td>\n",
       "      <td>2021</td>\n",
       "      <td>1</td>\n",
       "      <td>1</td>\n",
       "      <td>2</td>\n",
       "      <td>1</td>\n",
       "      <td>1</td>\n",
       "      <td>S</td>\n",
       "      <td>32</td>\n",
       "      <td>3175</td>\n",
       "      <td>...</td>\n",
       "      <td>0.0</td>\n",
       "      <td>1.0</td>\n",
       "      <td>4600.0</td>\n",
       "      <td>1.0</td>\n",
       "      <td>0.0</td>\n",
       "      <td>1.0</td>\n",
       "      <td>1.0</td>\n",
       "      <td>0.0</td>\n",
       "      <td>1.0</td>\n",
       "      <td>3572</td>\n",
       "    </tr>\n",
       "    <tr>\n",
       "      <th>2036</th>\n",
       "      <td>TQRMNOQRVHLKRSCDEIJAH00650864</td>\n",
       "      <td>2021</td>\n",
       "      <td>1</td>\n",
       "      <td>1</td>\n",
       "      <td>1</td>\n",
       "      <td>1</td>\n",
       "      <td>1</td>\n",
       "      <td>S</td>\n",
       "      <td>33</td>\n",
       "      <td>4857</td>\n",
       "      <td>...</td>\n",
       "      <td>0.0</td>\n",
       "      <td>12.0</td>\n",
       "      <td>0.0</td>\n",
       "      <td>12.0</td>\n",
       "      <td>0.0</td>\n",
       "      <td>12.0</td>\n",
       "      <td>12.0</td>\n",
       "      <td>0.0</td>\n",
       "      <td>12.0</td>\n",
       "      <td>0</td>\n",
       "    </tr>\n",
       "    <tr>\n",
       "      <th>1659</th>\n",
       "      <td>TQRMNOPWYHLMMMCDEIJAH00651325</td>\n",
       "      <td>2021</td>\n",
       "      <td>1</td>\n",
       "      <td>1</td>\n",
       "      <td>1</td>\n",
       "      <td>1</td>\n",
       "      <td>1</td>\n",
       "      <td>S</td>\n",
       "      <td>33</td>\n",
       "      <td>4610</td>\n",
       "      <td>...</td>\n",
       "      <td>0.0</td>\n",
       "      <td>8.0</td>\n",
       "      <td>21380.0</td>\n",
       "      <td>5.0</td>\n",
       "      <td>0.0</td>\n",
       "      <td>5.0</td>\n",
       "      <td>5.0</td>\n",
       "      <td>0.0</td>\n",
       "      <td>6.0</td>\n",
       "      <td>9987</td>\n",
       "    </tr>\n",
       "    <tr>\n",
       "      <th>3946</th>\n",
       "      <td>TQRMNOUSYHKMKNCDEIJAH00655860</td>\n",
       "      <td>2021</td>\n",
       "      <td>1</td>\n",
       "      <td>1</td>\n",
       "      <td>1</td>\n",
       "      <td>1</td>\n",
       "      <td>1</td>\n",
       "      <td>S</td>\n",
       "      <td>33</td>\n",
       "      <td>6994</td>\n",
       "      <td>...</td>\n",
       "      <td>0.0</td>\n",
       "      <td>6.0</td>\n",
       "      <td>60000.0</td>\n",
       "      <td>9.0</td>\n",
       "      <td>0.0</td>\n",
       "      <td>9.0</td>\n",
       "      <td>9.0</td>\n",
       "      <td>0.0</td>\n",
       "      <td>10.0</td>\n",
       "      <td>8904</td>\n",
       "    </tr>\n",
       "  </tbody>\n",
       "</table>\n",
       "<p>10 rows × 177 columns</p>\n",
       "</div>"
      ],
      "text/plain": [
       "                             CODUSU  ANO4  TRIMESTRE  NRO_HOGAR  COMPONENTE  \\\n",
       "2883  TQRMNORRWHLNQSCDEIJAH00651115  2021          1          1           4   \n",
       "2652  TQRMNOQYVHJNOOCDEIJAH00693099  2021          1          1           2   \n",
       "2269  TQRMNOQUTHLMMSCDEIJAH00650887  2021          1          1           4   \n",
       "3150  TQRMNORUXHLMLOCDEIJAH00650806  2021          1          1           1   \n",
       "2277  TQRMNOQUTHMMONCDEIJAH00701479  2021          1          1           5   \n",
       "191   TQRMNOPWRHJLMRCDEIIAD00698182  2021          1          1           4   \n",
       "968   TQRMNOWSSHKOKOCDEIIAD00655828  2021          1          1           2   \n",
       "2036  TQRMNOQRVHLKRSCDEIJAH00650864  2021          1          1           1   \n",
       "1659  TQRMNOPWYHLMMMCDEIJAH00651325  2021          1          1           1   \n",
       "3946  TQRMNOUSYHKMKNCDEIJAH00655860  2021          1          1           1   \n",
       "\n",
       "      H15  REGION MAS_500  AGLOMERADO  PONDERA  ...  PDECIFR  ADECIFR  \\\n",
       "2883    0       1       S          33     2334  ...      0.0     12.0   \n",
       "2652    1       1       S          33     2023  ...      0.0      6.0   \n",
       "2269    1       1       S          33     2495  ...      0.0      7.0   \n",
       "3150    1       1       S          33     2516  ...      0.0      7.0   \n",
       "2277    0       1       S          33     4427  ...      0.0      2.0   \n",
       "191     0       1       S          32     3041  ...      0.0      9.0   \n",
       "968     1       1       S          32     3175  ...      0.0      1.0   \n",
       "2036    1       1       S          33     4857  ...      0.0     12.0   \n",
       "1659    1       1       S          33     4610  ...      0.0      8.0   \n",
       "3946    1       1       S          33     6994  ...      0.0      6.0   \n",
       "\n",
       "         IPCF  DECCFR  IDECCFR  RDECCFR  GDECCFR  PDECCFR  ADECCFR  PONDIH  \n",
       "2883      0.0    12.0      0.0     12.0     12.0      0.0     12.0       0  \n",
       "2652  15225.0     4.0      0.0      4.0      4.0      0.0      4.0    3353  \n",
       "2269  17500.0     4.0      0.0      4.0      4.0      0.0      5.0    5491  \n",
       "3150  39750.0     8.0      0.0      8.0      8.0      0.0      8.0    4071  \n",
       "2277   4200.0     1.0      0.0      1.0      1.0      0.0      1.0    7221  \n",
       "191   51375.0     9.0      0.0      9.0      9.0      0.0      7.0    7288  \n",
       "968    4600.0     1.0      0.0      1.0      1.0      0.0      1.0    3572  \n",
       "2036      0.0    12.0      0.0     12.0     12.0      0.0     12.0       0  \n",
       "1659  21380.0     5.0      0.0      5.0      5.0      0.0      6.0    9987  \n",
       "3946  60000.0     9.0      0.0      9.0      9.0      0.0     10.0    8904  \n",
       "\n",
       "[10 rows x 177 columns]"
      ]
     },
     "execution_count": 4,
     "metadata": {},
     "output_type": "execute_result"
    }
   ],
   "source": [
    "# Visualizo el df\n",
    "eph.sample(10)"
   ]
  },
  {
   "cell_type": "markdown",
   "id": "c94fac25",
   "metadata": {},
   "source": [
    "### b) "
   ]
  },
  {
   "cell_type": "code",
   "execution_count": 5,
   "id": "b60860db",
   "metadata": {
    "scrolled": false
   },
   "outputs": [],
   "source": [
    "# Si no lo defino como uno me dropea un montón de filas que tienen NaN\n",
    "eph.PP08D1 = eph.PP08D1.fillna(0)\n",
    "eph.PP08F2 = eph.PP08F2.fillna(0)"
   ]
  },
  {
   "cell_type": "code",
   "execution_count": 6,
   "id": "0f89305c",
   "metadata": {},
   "outputs": [],
   "source": [
    "# dropeo observaciones con valores que no tienen sentido. CH06 = edad, PP08D1, P21, P47T, ITF y IPCF son todas variables\n",
    "# de ingresos, no pueden ser menores a 0\n",
    "eph.drop(eph[(eph[\"CH06\"] < 0) | (eph[\"PP08D1\"] < 0) | (eph[\"P21\"] < 0) | \\\n",
    "                       (eph[\"P47T\"] < 0) | (eph[\"ITF\"] < 0) | (eph[\"IPCF\"] < 0) | (eph[\"PP08F2\"] < 0)].index, inplace = True)\n",
    "eph.reset_index(inplace = True, drop = True)"
   ]
  },
  {
   "cell_type": "markdown",
   "id": "007f7c60",
   "metadata": {},
   "source": [
    "### c)"
   ]
  },
  {
   "cell_type": "code",
   "execution_count": 7,
   "id": "e73caa37",
   "metadata": {},
   "outputs": [
    {
     "data": {
      "image/png": "[encoded data removed]",
      "text/plain": [
       "<Figure size 432x288 with 1 Axes>"
      ]
     },
     "metadata": {
      "needs_background": "light"
     },
     "output_type": "display_data"
    }
   ],
   "source": [
    "# Hago el eje y como un porcentaje del total. Entonces, cuento cuantos son hombres (mujeres)\n",
    "# y lo divido por el total.\n",
    "hombres = (eph[eph[\"CH04\"] == 1].CH04.count())/eph.CH04.count()\n",
    "mujeres = (eph[eph[\"CH04\"] == 2].CH04.count())/eph.CH04.count()\n",
    "plt.bar(\"Hombres\", hombres)\n",
    "plt.bar(\"Mujeres\", mujeres)\n",
    "plt.show()"
   ]
  },
  {
   "cell_type": "markdown",
   "id": "26662957",
   "metadata": {},
   "source": [
    "### d)"
   ]
  },
  {
   "cell_type": "code",
   "execution_count": 8,
   "id": "9f19d2ec",
   "metadata": {},
   "outputs": [],
   "source": [
    "# Hago el .corr() de las variables que me pedía el punto d\n",
    "correlaciones = eph[[\"CH04\", \"CH07\", \"CH08\", \"NIVEL_ED\", \"ESTADO\", \"CAT_INAC\", \"IPCF\"]].corr()"
   ]
  },
  {
   "cell_type": "code",
   "execution_count": 9,
   "id": "be64512e",
   "metadata": {
    "scrolled": true
   },
   "outputs": [
    {
     "data": {
      "text/html": [
       "<div>\n",
       "<style scoped>\n",
       "    .dataframe tbody tr th:only-of-type {\n",
       "        vertical-align: middle;\n",
       "    }\n",
       "\n",
       "    .dataframe tbody tr th {\n",
       "        vertical-align: top;\n",
       "    }\n",
       "\n",
       "    .dataframe thead th {\n",
       "        text-align: right;\n",
       "    }\n",
       "</style>\n",
       "<table border=\"1\" class=\"dataframe\">\n",
       "  <thead>\n",
       "    <tr style=\"text-align: right;\">\n",
       "      <th></th>\n",
       "      <th>CH04</th>\n",
       "      <th>CH07</th>\n",
       "      <th>CH08</th>\n",
       "      <th>NIVEL_ED</th>\n",
       "      <th>ESTADO</th>\n",
       "      <th>CAT_INAC</th>\n",
       "      <th>IPCF</th>\n",
       "    </tr>\n",
       "  </thead>\n",
       "  <tbody>\n",
       "    <tr>\n",
       "      <th>CH04</th>\n",
       "      <td>1.000000</td>\n",
       "      <td>-0.025401</td>\n",
       "      <td>-0.018404</td>\n",
       "      <td>0.034413</td>\n",
       "      <td>0.103613</td>\n",
       "      <td>0.092578</td>\n",
       "      <td>-0.043384</td>\n",
       "    </tr>\n",
       "    <tr>\n",
       "      <th>CH07</th>\n",
       "      <td>-0.025401</td>\n",
       "      <td>1.000000</td>\n",
       "      <td>0.093896</td>\n",
       "      <td>-0.108472</td>\n",
       "      <td>0.400843</td>\n",
       "      <td>0.376750</td>\n",
       "      <td>-0.145113</td>\n",
       "    </tr>\n",
       "    <tr>\n",
       "      <th>CH08</th>\n",
       "      <td>-0.018404</td>\n",
       "      <td>0.093896</td>\n",
       "      <td>1.000000</td>\n",
       "      <td>0.019925</td>\n",
       "      <td>0.016732</td>\n",
       "      <td>0.060632</td>\n",
       "      <td>-0.074722</td>\n",
       "    </tr>\n",
       "    <tr>\n",
       "      <th>NIVEL_ED</th>\n",
       "      <td>0.034413</td>\n",
       "      <td>-0.108472</td>\n",
       "      <td>0.019925</td>\n",
       "      <td>1.000000</td>\n",
       "      <td>-0.229064</td>\n",
       "      <td>-0.077083</td>\n",
       "      <td>0.249320</td>\n",
       "    </tr>\n",
       "    <tr>\n",
       "      <th>ESTADO</th>\n",
       "      <td>0.103613</td>\n",
       "      <td>0.400843</td>\n",
       "      <td>0.016732</td>\n",
       "      <td>-0.229064</td>\n",
       "      <td>1.000000</td>\n",
       "      <td>0.798244</td>\n",
       "      <td>-0.243821</td>\n",
       "    </tr>\n",
       "  </tbody>\n",
       "</table>\n",
       "</div>"
      ],
      "text/plain": [
       "              CH04      CH07      CH08  NIVEL_ED    ESTADO  CAT_INAC      IPCF\n",
       "CH04      1.000000 -0.025401 -0.018404  0.034413  0.103613  0.092578 -0.043384\n",
       "CH07     -0.025401  1.000000  0.093896 -0.108472  0.400843  0.376750 -0.145113\n",
       "CH08     -0.018404  0.093896  1.000000  0.019925  0.016732  0.060632 -0.074722\n",
       "NIVEL_ED  0.034413 -0.108472  0.019925  1.000000 -0.229064 -0.077083  0.249320\n",
       "ESTADO    0.103613  0.400843  0.016732 -0.229064  1.000000  0.798244 -0.243821"
      ]
     },
     "execution_count": 9,
     "metadata": {},
     "output_type": "execute_result"
    }
   ],
   "source": [
    "correlaciones.head()"
   ]
  },
  {
   "cell_type": "code",
   "execution_count": 10,
   "id": "0006844f",
   "metadata": {},
   "outputs": [
    {
     "data": {
      "image/png": "[encoded data removed]",
      "text/plain": [
       "<Figure size 432x288 with 2 Axes>"
      ]
     },
     "metadata": {
      "needs_background": "light"
     },
     "output_type": "display_data"
    }
   ],
   "source": [
    "#Realizamos la matriz de correlaciones \n",
    "sns.heatmap(correlaciones, annot=True)\n",
    "plt.show()"
   ]
  },
  {
   "cell_type": "markdown",
   "id": "08df2554",
   "metadata": {},
   "source": [
    "### e)"
   ]
  },
  {
   "cell_type": "code",
   "execution_count": 11,
   "id": "2356620f",
   "metadata": {},
   "outputs": [
    {
     "data": {
      "text/plain": [
       "204"
      ]
     },
     "execution_count": 11,
     "metadata": {},
     "output_type": "execute_result"
    }
   ],
   "source": [
    "# ESTADO: 1 = Ocupado, 2 = Desocupado y 3 = Inactivo\n",
    "eph[eph[\"ESTADO\"] == 2].ESTADO.count()"
   ]
  },
  {
   "cell_type": "code",
   "execution_count": 12,
   "id": "e5daa0a0",
   "metadata": {},
   "outputs": [
    {
     "data": {
      "text/plain": [
       "1506"
      ]
     },
     "execution_count": 12,
     "metadata": {},
     "output_type": "execute_result"
    }
   ],
   "source": [
    "eph[eph[\"ESTADO\"] == 3].ESTADO.count()"
   ]
  },
  {
   "cell_type": "code",
   "execution_count": 13,
   "id": "14fad1ba",
   "metadata": {
    "scrolled": false
   },
   "outputs": [
    {
     "data": {
      "text/html": [
       "<div>\n",
       "<style scoped>\n",
       "    .dataframe tbody tr th:only-of-type {\n",
       "        vertical-align: middle;\n",
       "    }\n",
       "\n",
       "    .dataframe tbody tr th {\n",
       "        vertical-align: top;\n",
       "    }\n",
       "\n",
       "    .dataframe thead th {\n",
       "        text-align: right;\n",
       "    }\n",
       "</style>\n",
       "<table border=\"1\" class=\"dataframe\">\n",
       "  <thead>\n",
       "    <tr style=\"text-align: right;\">\n",
       "      <th></th>\n",
       "      <th>IPCF</th>\n",
       "    </tr>\n",
       "    <tr>\n",
       "      <th>ESTADO</th>\n",
       "      <th></th>\n",
       "    </tr>\n",
       "  </thead>\n",
       "  <tbody>\n",
       "    <tr>\n",
       "      <th>0</th>\n",
       "      <td>0.000000</td>\n",
       "    </tr>\n",
       "    <tr>\n",
       "      <th>1</th>\n",
       "      <td>33810.842375</td>\n",
       "    </tr>\n",
       "    <tr>\n",
       "      <th>2</th>\n",
       "      <td>12446.200980</td>\n",
       "    </tr>\n",
       "    <tr>\n",
       "      <th>3</th>\n",
       "      <td>18695.858625</td>\n",
       "    </tr>\n",
       "    <tr>\n",
       "      <th>4</th>\n",
       "      <td>12389.373426</td>\n",
       "    </tr>\n",
       "  </tbody>\n",
       "</table>\n",
       "</div>"
      ],
      "text/plain": [
       "                IPCF\n",
       "ESTADO              \n",
       "0           0.000000\n",
       "1       33810.842375\n",
       "2       12446.200980\n",
       "3       18695.858625\n",
       "4       12389.373426"
      ]
     },
     "execution_count": 13,
     "metadata": {},
     "output_type": "execute_result"
    }
   ],
   "source": [
    "#para cada condición de actividad calculamos la media del ingreso per cápita familiar\n",
    "eph_IPCF = eph.groupby(by=[\"ESTADO\"]).agg({\"IPCF\":\"mean\"}) \n",
    "eph_IPCF"
   ]
  },
  {
   "cell_type": "markdown",
   "id": "79fb132a",
   "metadata": {},
   "source": [
    "### f)"
   ]
  },
  {
   "cell_type": "code",
   "execution_count": 14,
   "id": "2bde1c8c",
   "metadata": {},
   "outputs": [],
   "source": [
    "#Importamos la tabla de excel\n",
    "tabla_adulto = pd.read_excel(\"tabla_adulto_equiv.xlsx\", header = 3)"
   ]
  },
  {
   "cell_type": "code",
   "execution_count": 15,
   "id": "aa27c6ed",
   "metadata": {
    "scrolled": true
   },
   "outputs": [
    {
     "data": {
      "text/html": [
       "<div>\n",
       "<style scoped>\n",
       "    .dataframe tbody tr th:only-of-type {\n",
       "        vertical-align: middle;\n",
       "    }\n",
       "\n",
       "    .dataframe tbody tr th {\n",
       "        vertical-align: top;\n",
       "    }\n",
       "\n",
       "    .dataframe thead th {\n",
       "        text-align: right;\n",
       "    }\n",
       "</style>\n",
       "<table border=\"1\" class=\"dataframe\">\n",
       "  <thead>\n",
       "    <tr style=\"text-align: right;\">\n",
       "      <th></th>\n",
       "      <th>Edad</th>\n",
       "      <th>Mujeres</th>\n",
       "      <th>Varones</th>\n",
       "    </tr>\n",
       "  </thead>\n",
       "  <tbody>\n",
       "    <tr>\n",
       "      <th>0</th>\n",
       "      <td>Menor de 1 año</td>\n",
       "      <td>0.35</td>\n",
       "      <td>0.35</td>\n",
       "    </tr>\n",
       "    <tr>\n",
       "      <th>1</th>\n",
       "      <td>1año</td>\n",
       "      <td>0.37</td>\n",
       "      <td>0.37</td>\n",
       "    </tr>\n",
       "    <tr>\n",
       "      <th>2</th>\n",
       "      <td>2 años</td>\n",
       "      <td>0.46</td>\n",
       "      <td>0.46</td>\n",
       "    </tr>\n",
       "    <tr>\n",
       "      <th>3</th>\n",
       "      <td>3 años</td>\n",
       "      <td>0.51</td>\n",
       "      <td>0.51</td>\n",
       "    </tr>\n",
       "    <tr>\n",
       "      <th>4</th>\n",
       "      <td>4 años</td>\n",
       "      <td>0.55</td>\n",
       "      <td>0.55</td>\n",
       "    </tr>\n",
       "    <tr>\n",
       "      <th>5</th>\n",
       "      <td>5 años</td>\n",
       "      <td>0.60</td>\n",
       "      <td>0.60</td>\n",
       "    </tr>\n",
       "    <tr>\n",
       "      <th>6</th>\n",
       "      <td>6 años</td>\n",
       "      <td>0.64</td>\n",
       "      <td>0.64</td>\n",
       "    </tr>\n",
       "    <tr>\n",
       "      <th>7</th>\n",
       "      <td>7 años</td>\n",
       "      <td>0.66</td>\n",
       "      <td>0.66</td>\n",
       "    </tr>\n",
       "    <tr>\n",
       "      <th>8</th>\n",
       "      <td>8 años</td>\n",
       "      <td>0.68</td>\n",
       "      <td>0.68</td>\n",
       "    </tr>\n",
       "    <tr>\n",
       "      <th>9</th>\n",
       "      <td>9 años</td>\n",
       "      <td>0.69</td>\n",
       "      <td>0.69</td>\n",
       "    </tr>\n",
       "    <tr>\n",
       "      <th>10</th>\n",
       "      <td>10 años</td>\n",
       "      <td>0.70</td>\n",
       "      <td>0.79</td>\n",
       "    </tr>\n",
       "    <tr>\n",
       "      <th>11</th>\n",
       "      <td>11 años</td>\n",
       "      <td>0.72</td>\n",
       "      <td>0.82</td>\n",
       "    </tr>\n",
       "    <tr>\n",
       "      <th>12</th>\n",
       "      <td>12 años</td>\n",
       "      <td>0.74</td>\n",
       "      <td>0.85</td>\n",
       "    </tr>\n",
       "    <tr>\n",
       "      <th>13</th>\n",
       "      <td>13 años</td>\n",
       "      <td>0.76</td>\n",
       "      <td>0.90</td>\n",
       "    </tr>\n",
       "    <tr>\n",
       "      <th>14</th>\n",
       "      <td>14 años</td>\n",
       "      <td>0.76</td>\n",
       "      <td>0.96</td>\n",
       "    </tr>\n",
       "    <tr>\n",
       "      <th>15</th>\n",
       "      <td>15 años</td>\n",
       "      <td>0.77</td>\n",
       "      <td>1.00</td>\n",
       "    </tr>\n",
       "    <tr>\n",
       "      <th>16</th>\n",
       "      <td>16 años</td>\n",
       "      <td>0.77</td>\n",
       "      <td>1.03</td>\n",
       "    </tr>\n",
       "    <tr>\n",
       "      <th>17</th>\n",
       "      <td>17 años</td>\n",
       "      <td>0.77</td>\n",
       "      <td>1.04</td>\n",
       "    </tr>\n",
       "    <tr>\n",
       "      <th>18</th>\n",
       "      <td>18 a 29 años</td>\n",
       "      <td>0.76</td>\n",
       "      <td>1.02</td>\n",
       "    </tr>\n",
       "    <tr>\n",
       "      <th>19</th>\n",
       "      <td>30 a 45 años</td>\n",
       "      <td>0.77</td>\n",
       "      <td>1.00</td>\n",
       "    </tr>\n",
       "  </tbody>\n",
       "</table>\n",
       "</div>"
      ],
      "text/plain": [
       "              Edad  Mujeres  Varones\n",
       "0   Menor de 1 año     0.35     0.35\n",
       "1             1año     0.37     0.37\n",
       "2           2 años     0.46     0.46\n",
       "3           3 años     0.51     0.51\n",
       "4           4 años     0.55     0.55\n",
       "5           5 años     0.60     0.60\n",
       "6           6 años     0.64     0.64\n",
       "7           7 años     0.66     0.66\n",
       "8           8 años     0.68     0.68\n",
       "9           9 años     0.69     0.69\n",
       "10         10 años     0.70     0.79\n",
       "11         11 años     0.72     0.82\n",
       "12         12 años     0.74     0.85\n",
       "13         13 años     0.76     0.90\n",
       "14         14 años     0.76     0.96\n",
       "15         15 años     0.77     1.00\n",
       "16         16 años     0.77     1.03\n",
       "17         17 años     0.77     1.04\n",
       "18    18 a 29 años     0.76     1.02\n",
       "19    30 a 45 años     0.77     1.00"
      ]
     },
     "execution_count": 15,
     "metadata": {},
     "output_type": "execute_result"
    }
   ],
   "source": [
    "#Ajustamos el formato de la tabla \n",
    "tabla_adulto.dropna(axis = 1, inplace = True, thresh = 10)\n",
    "tabla_adulto.dropna(inplace = True, thresh = 3)\n",
    "tabla_adulto.reset_index(inplace = True, drop = True)\n",
    "tabla_adulto.head(20)\n"
   ]
  },
  {
   "cell_type": "code",
   "execution_count": 16,
   "id": "8770d512",
   "metadata": {
    "scrolled": false
   },
   "outputs": [],
   "source": [
    "#Creamos la columna \"adulto_equiv\" como una columna de ceros\n",
    "eph[\"adulto_equiv\"] = 0"
   ]
  },
  {
   "cell_type": "code",
   "execution_count": 17,
   "id": "afa7cc04",
   "metadata": {},
   "outputs": [],
   "source": [
    "#Generamos una nueva columna llamada lista como una columna de ceros \n",
    "eph[\"lista\"] = 0\n",
    "#Iteramos por filas\n",
    "#Para cada fila del data frame de acuerdo a la edad le indicamos que \n",
    "#la celda de la columna \"lista\" la complete con el número correspondiente \n",
    "#al índice de la tabla_adulto. \n",
    "#Por ejemplo, si la edad es menor a 30 entonces se asigna el numero 18 que es\n",
    "#el índice de la fila de 18 a 29 años. \n",
    "for i in eph.index:\n",
    "    if eph.loc[i, \"CH06\"] < 19:\n",
    "        eph.loc[i, \"lista\"] = eph.loc[i, \"CH06\"]\n",
    "    elif eph.loc[i, \"CH06\"] < 30:\n",
    "        eph.loc[i, \"lista\"] = 18\n",
    "    elif eph.loc[i, \"CH06\"] < 46:\n",
    "        eph.loc[i, \"lista\"] = 19\n",
    "    elif eph.loc[i, \"CH06\"] < 61:\n",
    "        eph.loc[i, \"lista\"] = 20\n",
    "    elif eph.loc[i, \"CH06\"] < 76:\n",
    "        eph.loc[i, \"lista\"] = 21\n",
    "    else:\n",
    "        eph.loc[i, \"lista\"] = 22"
   ]
  },
  {
   "cell_type": "code",
   "execution_count": 18,
   "id": "e9b74797",
   "metadata": {
    "scrolled": false
   },
   "outputs": [],
   "source": [
    "#CH06 = edad, CH04 = Sexo (1 = varon y 2 = mujer)\n",
    "#Para cada fila del dataframe si el individuo es varón entonces le indicamos que bajo \n",
    "#la columna\"adulto_equiv\" coloque la siguiente celda de tabla_adulto: \n",
    "# Fila: el índice que esta guardado en la columna \"lista\" en el df eph. \n",
    "# Columna: Varones \n",
    "#idem para las mujeres\n",
    "#De este modo se obtienenn los valores de adulto equivalente de cada persona según \n",
    "#su sexo y edad\n",
    "for i in eph.index:\n",
    "    if eph.loc[i, \"CH04\"] == 1:\n",
    "        eph.loc[i, \"adulto_equiv\"] = tabla_adulto.loc[eph.loc[i, \"lista\"], \"Varones\"]\n",
    "    elif eph.loc[i, \"CH04\"] == 2:\n",
    "        eph.loc[i, \"adulto_equiv\"] = tabla_adulto.loc[eph.loc[i, \"lista\"], \"Mujeres\"]"
   ]
  },
  {
   "cell_type": "code",
   "execution_count": 19,
   "id": "745cb194",
   "metadata": {
    "scrolled": true
   },
   "outputs": [],
   "source": [
    "#Eliminamos la columna \"lista\"\n",
    "eph.drop(\"lista\", axis = 1, inplace = True)"
   ]
  },
  {
   "cell_type": "code",
   "execution_count": 20,
   "id": "e9b92047",
   "metadata": {},
   "outputs": [
    {
     "data": {
      "text/html": [
       "<div>\n",
       "<style scoped>\n",
       "    .dataframe tbody tr th:only-of-type {\n",
       "        vertical-align: middle;\n",
       "    }\n",
       "\n",
       "    .dataframe tbody tr th {\n",
       "        vertical-align: top;\n",
       "    }\n",
       "\n",
       "    .dataframe thead th {\n",
       "        text-align: right;\n",
       "    }\n",
       "</style>\n",
       "<table border=\"1\" class=\"dataframe\">\n",
       "  <thead>\n",
       "    <tr style=\"text-align: right;\">\n",
       "      <th></th>\n",
       "      <th>CH04</th>\n",
       "      <th>adulto_equiv</th>\n",
       "      <th>CH06</th>\n",
       "    </tr>\n",
       "  </thead>\n",
       "  <tbody>\n",
       "    <tr>\n",
       "      <th>0</th>\n",
       "      <td>1</td>\n",
       "      <td>1.02</td>\n",
       "      <td>29</td>\n",
       "    </tr>\n",
       "    <tr>\n",
       "      <th>1</th>\n",
       "      <td>2</td>\n",
       "      <td>0.76</td>\n",
       "      <td>29</td>\n",
       "    </tr>\n",
       "    <tr>\n",
       "      <th>2</th>\n",
       "      <td>2</td>\n",
       "      <td>0.76</td>\n",
       "      <td>53</td>\n",
       "    </tr>\n",
       "    <tr>\n",
       "      <th>3</th>\n",
       "      <td>2</td>\n",
       "      <td>0.76</td>\n",
       "      <td>22</td>\n",
       "    </tr>\n",
       "    <tr>\n",
       "      <th>4</th>\n",
       "      <td>1</td>\n",
       "      <td>1.02</td>\n",
       "      <td>19</td>\n",
       "    </tr>\n",
       "    <tr>\n",
       "      <th>...</th>\n",
       "      <td>...</td>\n",
       "      <td>...</td>\n",
       "      <td>...</td>\n",
       "    </tr>\n",
       "    <tr>\n",
       "      <th>3322</th>\n",
       "      <td>2</td>\n",
       "      <td>0.67</td>\n",
       "      <td>74</td>\n",
       "    </tr>\n",
       "    <tr>\n",
       "      <th>3323</th>\n",
       "      <td>2</td>\n",
       "      <td>0.67</td>\n",
       "      <td>61</td>\n",
       "    </tr>\n",
       "    <tr>\n",
       "      <th>3324</th>\n",
       "      <td>1</td>\n",
       "      <td>0.83</td>\n",
       "      <td>70</td>\n",
       "    </tr>\n",
       "    <tr>\n",
       "      <th>3325</th>\n",
       "      <td>2</td>\n",
       "      <td>0.77</td>\n",
       "      <td>15</td>\n",
       "    </tr>\n",
       "    <tr>\n",
       "      <th>3326</th>\n",
       "      <td>2</td>\n",
       "      <td>0.67</td>\n",
       "      <td>72</td>\n",
       "    </tr>\n",
       "  </tbody>\n",
       "</table>\n",
       "<p>3327 rows × 3 columns</p>\n",
       "</div>"
      ],
      "text/plain": [
       "      CH04  adulto_equiv  CH06\n",
       "0        1          1.02    29\n",
       "1        2          0.76    29\n",
       "2        2          0.76    53\n",
       "3        2          0.76    22\n",
       "4        1          1.02    19\n",
       "...    ...           ...   ...\n",
       "3322     2          0.67    74\n",
       "3323     2          0.67    61\n",
       "3324     1          0.83    70\n",
       "3325     2          0.77    15\n",
       "3326     2          0.67    72\n",
       "\n",
       "[3327 rows x 3 columns]"
      ]
     },
     "execution_count": 20,
     "metadata": {},
     "output_type": "execute_result"
    }
   ],
   "source": [
    "#Visualizamos los resultados\n",
    "eph[[\"CH04\", \"adulto_equiv\", \"CH06\"]]"
   ]
  },
  {
   "cell_type": "code",
   "execution_count": 21,
   "id": "bc4036b6",
   "metadata": {},
   "outputs": [
    {
     "data": {
      "text/html": [
       "<div>\n",
       "<style scoped>\n",
       "    .dataframe tbody tr th:only-of-type {\n",
       "        vertical-align: middle;\n",
       "    }\n",
       "\n",
       "    .dataframe tbody tr th {\n",
       "        vertical-align: top;\n",
       "    }\n",
       "\n",
       "    .dataframe thead th {\n",
       "        text-align: right;\n",
       "    }\n",
       "</style>\n",
       "<table border=\"1\" class=\"dataframe\">\n",
       "  <thead>\n",
       "    <tr style=\"text-align: right;\">\n",
       "      <th></th>\n",
       "      <th>CODUSU</th>\n",
       "      <th>adulto_equiv</th>\n",
       "    </tr>\n",
       "  </thead>\n",
       "  <tbody>\n",
       "    <tr>\n",
       "      <th>0</th>\n",
       "      <td>TQRMNOPPQHJMQLCDEIJAH00702455</td>\n",
       "      <td>1.67</td>\n",
       "    </tr>\n",
       "    <tr>\n",
       "      <th>1</th>\n",
       "      <td>TQRMNOPPQHJNMQCDEIJAH00698190</td>\n",
       "      <td>3.10</td>\n",
       "    </tr>\n",
       "    <tr>\n",
       "      <th>2</th>\n",
       "      <td>TQRMNOPPQHJONQCDEIJAH00693114</td>\n",
       "      <td>1.76</td>\n",
       "    </tr>\n",
       "    <tr>\n",
       "      <th>3</th>\n",
       "      <td>TQRMNOPPQHKMOSCDEIJAH00656008</td>\n",
       "      <td>2.53</td>\n",
       "    </tr>\n",
       "    <tr>\n",
       "      <th>4</th>\n",
       "      <td>TQRMNOPPQHLMPPCDEIJAH00701610</td>\n",
       "      <td>3.92</td>\n",
       "    </tr>\n",
       "    <tr>\n",
       "      <th>...</th>\n",
       "      <td>...</td>\n",
       "      <td>...</td>\n",
       "    </tr>\n",
       "    <tr>\n",
       "      <th>1318</th>\n",
       "      <td>TQUMNORVRHMMLLCDEIJAH00698180</td>\n",
       "      <td>2.27</td>\n",
       "    </tr>\n",
       "    <tr>\n",
       "      <th>1319</th>\n",
       "      <td>TQUMNOSTYHLKKQCDEIIAD00650359</td>\n",
       "      <td>0.83</td>\n",
       "    </tr>\n",
       "    <tr>\n",
       "      <th>1320</th>\n",
       "      <td>TQVMNOPYPHLOTOCDEIJAH00693364</td>\n",
       "      <td>0.67</td>\n",
       "    </tr>\n",
       "    <tr>\n",
       "      <th>1321</th>\n",
       "      <td>TQVMNOSTYHLKKQCDEIIAD00650333</td>\n",
       "      <td>1.23</td>\n",
       "    </tr>\n",
       "    <tr>\n",
       "      <th>1322</th>\n",
       "      <td>TQVMNOSUPHLKKQCDEIIAD00650453</td>\n",
       "      <td>1.59</td>\n",
       "    </tr>\n",
       "  </tbody>\n",
       "</table>\n",
       "<p>1323 rows × 2 columns</p>\n",
       "</div>"
      ],
      "text/plain": [
       "                             CODUSU  adulto_equiv\n",
       "0     TQRMNOPPQHJMQLCDEIJAH00702455          1.67\n",
       "1     TQRMNOPPQHJNMQCDEIJAH00698190          3.10\n",
       "2     TQRMNOPPQHJONQCDEIJAH00693114          1.76\n",
       "3     TQRMNOPPQHKMOSCDEIJAH00656008          2.53\n",
       "4     TQRMNOPPQHLMPPCDEIJAH00701610          3.92\n",
       "...                             ...           ...\n",
       "1318  TQUMNORVRHMMLLCDEIJAH00698180          2.27\n",
       "1319  TQUMNOSTYHLKKQCDEIIAD00650359          0.83\n",
       "1320  TQVMNOPYPHLOTOCDEIJAH00693364          0.67\n",
       "1321  TQVMNOSTYHLKKQCDEIIAD00650333          1.23\n",
       "1322  TQVMNOSUPHLKKQCDEIIAD00650453          1.59\n",
       "\n",
       "[1323 rows x 2 columns]"
      ]
     },
     "execution_count": 21,
     "metadata": {},
     "output_type": "execute_result"
    }
   ],
   "source": [
    "#Realizamos un groupby: para cada hogar sumamos \"adulto_equiv\"\n",
    "ad_equiv_hogar = eph[[\"CODUSU\", \"adulto_equiv\"]].groupby(\"CODUSU\").sum()\n",
    "ad_equiv_hogar.reset_index(inplace = True)\n",
    "ad_equiv_hogar "
   ]
  },
  {
   "cell_type": "code",
   "execution_count": 22,
   "id": "fe2088e0",
   "metadata": {
    "scrolled": true
   },
   "outputs": [
    {
     "data": {
      "text/html": [
       "<div>\n",
       "<style scoped>\n",
       "    .dataframe tbody tr th:only-of-type {\n",
       "        vertical-align: middle;\n",
       "    }\n",
       "\n",
       "    .dataframe tbody tr th {\n",
       "        vertical-align: top;\n",
       "    }\n",
       "\n",
       "    .dataframe thead th {\n",
       "        text-align: right;\n",
       "    }\n",
       "</style>\n",
       "<table border=\"1\" class=\"dataframe\">\n",
       "  <thead>\n",
       "    <tr style=\"text-align: right;\">\n",
       "      <th></th>\n",
       "      <th>CODUSU</th>\n",
       "      <th>ad_equiv_hogar</th>\n",
       "    </tr>\n",
       "  </thead>\n",
       "  <tbody>\n",
       "    <tr>\n",
       "      <th>0</th>\n",
       "      <td>TQRMNOPPQHJMQLCDEIJAH00702455</td>\n",
       "      <td>1.67</td>\n",
       "    </tr>\n",
       "    <tr>\n",
       "      <th>1</th>\n",
       "      <td>TQRMNOPPQHJNMQCDEIJAH00698190</td>\n",
       "      <td>3.10</td>\n",
       "    </tr>\n",
       "    <tr>\n",
       "      <th>2</th>\n",
       "      <td>TQRMNOPPQHJONQCDEIJAH00693114</td>\n",
       "      <td>1.76</td>\n",
       "    </tr>\n",
       "    <tr>\n",
       "      <th>3</th>\n",
       "      <td>TQRMNOPPQHKMOSCDEIJAH00656008</td>\n",
       "      <td>2.53</td>\n",
       "    </tr>\n",
       "    <tr>\n",
       "      <th>4</th>\n",
       "      <td>TQRMNOPPQHLMPPCDEIJAH00701610</td>\n",
       "      <td>3.92</td>\n",
       "    </tr>\n",
       "    <tr>\n",
       "      <th>...</th>\n",
       "      <td>...</td>\n",
       "      <td>...</td>\n",
       "    </tr>\n",
       "    <tr>\n",
       "      <th>1318</th>\n",
       "      <td>TQUMNORVRHMMLLCDEIJAH00698180</td>\n",
       "      <td>2.27</td>\n",
       "    </tr>\n",
       "    <tr>\n",
       "      <th>1319</th>\n",
       "      <td>TQUMNOSTYHLKKQCDEIIAD00650359</td>\n",
       "      <td>0.83</td>\n",
       "    </tr>\n",
       "    <tr>\n",
       "      <th>1320</th>\n",
       "      <td>TQVMNOPYPHLOTOCDEIJAH00693364</td>\n",
       "      <td>0.67</td>\n",
       "    </tr>\n",
       "    <tr>\n",
       "      <th>1321</th>\n",
       "      <td>TQVMNOSTYHLKKQCDEIIAD00650333</td>\n",
       "      <td>1.23</td>\n",
       "    </tr>\n",
       "    <tr>\n",
       "      <th>1322</th>\n",
       "      <td>TQVMNOSUPHLKKQCDEIIAD00650453</td>\n",
       "      <td>1.59</td>\n",
       "    </tr>\n",
       "  </tbody>\n",
       "</table>\n",
       "<p>1323 rows × 2 columns</p>\n",
       "</div>"
      ],
      "text/plain": [
       "                             CODUSU  ad_equiv_hogar\n",
       "0     TQRMNOPPQHJMQLCDEIJAH00702455            1.67\n",
       "1     TQRMNOPPQHJNMQCDEIJAH00698190            3.10\n",
       "2     TQRMNOPPQHJONQCDEIJAH00693114            1.76\n",
       "3     TQRMNOPPQHKMOSCDEIJAH00656008            2.53\n",
       "4     TQRMNOPPQHLMPPCDEIJAH00701610            3.92\n",
       "...                             ...             ...\n",
       "1318  TQUMNORVRHMMLLCDEIJAH00698180            2.27\n",
       "1319  TQUMNOSTYHLKKQCDEIIAD00650359            0.83\n",
       "1320  TQVMNOPYPHLOTOCDEIJAH00693364            0.67\n",
       "1321  TQVMNOSTYHLKKQCDEIIAD00650333            1.23\n",
       "1322  TQVMNOSUPHLKKQCDEIIAD00650453            1.59\n",
       "\n",
       "[1323 rows x 2 columns]"
      ]
     },
     "execution_count": 22,
     "metadata": {},
     "output_type": "execute_result"
    }
   ],
   "source": [
    "#cambiamos los nombres de las columnas\n",
    "ad_equiv_hogar.columns = [\"CODUSU\", \"ad_equiv_hogar\"]\n",
    "ad_equiv_hogar"
   ]
  },
  {
   "cell_type": "code",
   "execution_count": 23,
   "id": "56aac243",
   "metadata": {},
   "outputs": [
    {
     "data": {
      "text/html": [
       "<div>\n",
       "<style scoped>\n",
       "    .dataframe tbody tr th:only-of-type {\n",
       "        vertical-align: middle;\n",
       "    }\n",
       "\n",
       "    .dataframe tbody tr th {\n",
       "        vertical-align: top;\n",
       "    }\n",
       "\n",
       "    .dataframe thead th {\n",
       "        text-align: right;\n",
       "    }\n",
       "</style>\n",
       "<table border=\"1\" class=\"dataframe\">\n",
       "  <thead>\n",
       "    <tr style=\"text-align: right;\">\n",
       "      <th></th>\n",
       "      <th>CODUSU</th>\n",
       "      <th>ANO4</th>\n",
       "      <th>TRIMESTRE</th>\n",
       "      <th>NRO_HOGAR</th>\n",
       "      <th>COMPONENTE</th>\n",
       "      <th>H15</th>\n",
       "      <th>REGION</th>\n",
       "      <th>MAS_500</th>\n",
       "      <th>AGLOMERADO</th>\n",
       "      <th>PONDERA</th>\n",
       "      <th>...</th>\n",
       "      <th>IPCF</th>\n",
       "      <th>DECCFR</th>\n",
       "      <th>IDECCFR</th>\n",
       "      <th>RDECCFR</th>\n",
       "      <th>GDECCFR</th>\n",
       "      <th>PDECCFR</th>\n",
       "      <th>ADECCFR</th>\n",
       "      <th>PONDIH</th>\n",
       "      <th>adulto_equiv</th>\n",
       "      <th>ad_equiv_hogar</th>\n",
       "    </tr>\n",
       "  </thead>\n",
       "  <tbody>\n",
       "    <tr>\n",
       "      <th>0</th>\n",
       "      <td>TQRMNOPPRHKMLNCDEIIAD00655703</td>\n",
       "      <td>2021</td>\n",
       "      <td>1</td>\n",
       "      <td>1</td>\n",
       "      <td>1</td>\n",
       "      <td>1</td>\n",
       "      <td>1</td>\n",
       "      <td>S</td>\n",
       "      <td>32</td>\n",
       "      <td>1394</td>\n",
       "      <td>...</td>\n",
       "      <td>127500.0</td>\n",
       "      <td>10.0</td>\n",
       "      <td>0.0</td>\n",
       "      <td>10.0</td>\n",
       "      <td>10.0</td>\n",
       "      <td>0.0</td>\n",
       "      <td>10.0</td>\n",
       "      <td>2494</td>\n",
       "      <td>1.02</td>\n",
       "      <td>1.78</td>\n",
       "    </tr>\n",
       "    <tr>\n",
       "      <th>1</th>\n",
       "      <td>TQRMNOPPRHKMLNCDEIIAD00655703</td>\n",
       "      <td>2021</td>\n",
       "      <td>1</td>\n",
       "      <td>1</td>\n",
       "      <td>2</td>\n",
       "      <td>1</td>\n",
       "      <td>1</td>\n",
       "      <td>S</td>\n",
       "      <td>32</td>\n",
       "      <td>1394</td>\n",
       "      <td>...</td>\n",
       "      <td>127500.0</td>\n",
       "      <td>10.0</td>\n",
       "      <td>0.0</td>\n",
       "      <td>10.0</td>\n",
       "      <td>10.0</td>\n",
       "      <td>0.0</td>\n",
       "      <td>10.0</td>\n",
       "      <td>2494</td>\n",
       "      <td>0.76</td>\n",
       "      <td>1.78</td>\n",
       "    </tr>\n",
       "    <tr>\n",
       "      <th>2</th>\n",
       "      <td>TQRMNOPPWHKMNUCDEIIAD00655837</td>\n",
       "      <td>2021</td>\n",
       "      <td>1</td>\n",
       "      <td>1</td>\n",
       "      <td>2</td>\n",
       "      <td>1</td>\n",
       "      <td>1</td>\n",
       "      <td>S</td>\n",
       "      <td>32</td>\n",
       "      <td>3090</td>\n",
       "      <td>...</td>\n",
       "      <td>0.0</td>\n",
       "      <td>12.0</td>\n",
       "      <td>0.0</td>\n",
       "      <td>12.0</td>\n",
       "      <td>12.0</td>\n",
       "      <td>0.0</td>\n",
       "      <td>12.0</td>\n",
       "      <td>0</td>\n",
       "      <td>0.76</td>\n",
       "      <td>3.44</td>\n",
       "    </tr>\n",
       "    <tr>\n",
       "      <th>3</th>\n",
       "      <td>TQRMNOPPWHKMNUCDEIIAD00655837</td>\n",
       "      <td>2021</td>\n",
       "      <td>1</td>\n",
       "      <td>1</td>\n",
       "      <td>3</td>\n",
       "      <td>1</td>\n",
       "      <td>1</td>\n",
       "      <td>S</td>\n",
       "      <td>32</td>\n",
       "      <td>3090</td>\n",
       "      <td>...</td>\n",
       "      <td>0.0</td>\n",
       "      <td>12.0</td>\n",
       "      <td>0.0</td>\n",
       "      <td>12.0</td>\n",
       "      <td>12.0</td>\n",
       "      <td>0.0</td>\n",
       "      <td>12.0</td>\n",
       "      <td>0</td>\n",
       "      <td>0.76</td>\n",
       "      <td>3.44</td>\n",
       "    </tr>\n",
       "    <tr>\n",
       "      <th>4</th>\n",
       "      <td>TQRMNOPPWHKMNUCDEIIAD00655837</td>\n",
       "      <td>2021</td>\n",
       "      <td>1</td>\n",
       "      <td>1</td>\n",
       "      <td>4</td>\n",
       "      <td>1</td>\n",
       "      <td>1</td>\n",
       "      <td>S</td>\n",
       "      <td>32</td>\n",
       "      <td>3090</td>\n",
       "      <td>...</td>\n",
       "      <td>0.0</td>\n",
       "      <td>12.0</td>\n",
       "      <td>0.0</td>\n",
       "      <td>12.0</td>\n",
       "      <td>12.0</td>\n",
       "      <td>0.0</td>\n",
       "      <td>12.0</td>\n",
       "      <td>0</td>\n",
       "      <td>1.02</td>\n",
       "      <td>3.44</td>\n",
       "    </tr>\n",
       "    <tr>\n",
       "      <th>...</th>\n",
       "      <td>...</td>\n",
       "      <td>...</td>\n",
       "      <td>...</td>\n",
       "      <td>...</td>\n",
       "      <td>...</td>\n",
       "      <td>...</td>\n",
       "      <td>...</td>\n",
       "      <td>...</td>\n",
       "      <td>...</td>\n",
       "      <td>...</td>\n",
       "      <td>...</td>\n",
       "      <td>...</td>\n",
       "      <td>...</td>\n",
       "      <td>...</td>\n",
       "      <td>...</td>\n",
       "      <td>...</td>\n",
       "      <td>...</td>\n",
       "      <td>...</td>\n",
       "      <td>...</td>\n",
       "      <td>...</td>\n",
       "      <td>...</td>\n",
       "    </tr>\n",
       "    <tr>\n",
       "      <th>3322</th>\n",
       "      <td>TQUMNOQWTHLOTOCDEIJAH00698524</td>\n",
       "      <td>2021</td>\n",
       "      <td>1</td>\n",
       "      <td>1</td>\n",
       "      <td>2</td>\n",
       "      <td>1</td>\n",
       "      <td>1</td>\n",
       "      <td>S</td>\n",
       "      <td>33</td>\n",
       "      <td>1745</td>\n",
       "      <td>...</td>\n",
       "      <td>16650.0</td>\n",
       "      <td>4.0</td>\n",
       "      <td>0.0</td>\n",
       "      <td>4.0</td>\n",
       "      <td>4.0</td>\n",
       "      <td>0.0</td>\n",
       "      <td>5.0</td>\n",
       "      <td>2388</td>\n",
       "      <td>0.67</td>\n",
       "      <td>1.67</td>\n",
       "    </tr>\n",
       "    <tr>\n",
       "      <th>3323</th>\n",
       "      <td>TQUMNORVRHMMLLCDEIJAH00698180</td>\n",
       "      <td>2021</td>\n",
       "      <td>1</td>\n",
       "      <td>1</td>\n",
       "      <td>1</td>\n",
       "      <td>1</td>\n",
       "      <td>1</td>\n",
       "      <td>S</td>\n",
       "      <td>33</td>\n",
       "      <td>2064</td>\n",
       "      <td>...</td>\n",
       "      <td>6400.0</td>\n",
       "      <td>1.0</td>\n",
       "      <td>0.0</td>\n",
       "      <td>1.0</td>\n",
       "      <td>1.0</td>\n",
       "      <td>0.0</td>\n",
       "      <td>1.0</td>\n",
       "      <td>3654</td>\n",
       "      <td>0.67</td>\n",
       "      <td>2.27</td>\n",
       "    </tr>\n",
       "    <tr>\n",
       "      <th>3324</th>\n",
       "      <td>TQUMNORVRHMMLLCDEIJAH00698180</td>\n",
       "      <td>2021</td>\n",
       "      <td>1</td>\n",
       "      <td>1</td>\n",
       "      <td>2</td>\n",
       "      <td>1</td>\n",
       "      <td>1</td>\n",
       "      <td>S</td>\n",
       "      <td>33</td>\n",
       "      <td>2064</td>\n",
       "      <td>...</td>\n",
       "      <td>6400.0</td>\n",
       "      <td>1.0</td>\n",
       "      <td>0.0</td>\n",
       "      <td>1.0</td>\n",
       "      <td>1.0</td>\n",
       "      <td>0.0</td>\n",
       "      <td>1.0</td>\n",
       "      <td>3654</td>\n",
       "      <td>0.83</td>\n",
       "      <td>2.27</td>\n",
       "    </tr>\n",
       "    <tr>\n",
       "      <th>3325</th>\n",
       "      <td>TQUMNORVRHMMLLCDEIJAH00698180</td>\n",
       "      <td>2021</td>\n",
       "      <td>1</td>\n",
       "      <td>1</td>\n",
       "      <td>3</td>\n",
       "      <td>1</td>\n",
       "      <td>1</td>\n",
       "      <td>S</td>\n",
       "      <td>33</td>\n",
       "      <td>2064</td>\n",
       "      <td>...</td>\n",
       "      <td>6400.0</td>\n",
       "      <td>1.0</td>\n",
       "      <td>0.0</td>\n",
       "      <td>1.0</td>\n",
       "      <td>1.0</td>\n",
       "      <td>0.0</td>\n",
       "      <td>1.0</td>\n",
       "      <td>3654</td>\n",
       "      <td>0.77</td>\n",
       "      <td>2.27</td>\n",
       "    </tr>\n",
       "    <tr>\n",
       "      <th>3326</th>\n",
       "      <td>TQVMNOPYPHLOTOCDEIJAH00693364</td>\n",
       "      <td>2021</td>\n",
       "      <td>1</td>\n",
       "      <td>2</td>\n",
       "      <td>1</td>\n",
       "      <td>1</td>\n",
       "      <td>1</td>\n",
       "      <td>S</td>\n",
       "      <td>33</td>\n",
       "      <td>1318</td>\n",
       "      <td>...</td>\n",
       "      <td>30000.0</td>\n",
       "      <td>7.0</td>\n",
       "      <td>0.0</td>\n",
       "      <td>7.0</td>\n",
       "      <td>7.0</td>\n",
       "      <td>0.0</td>\n",
       "      <td>7.0</td>\n",
       "      <td>1666</td>\n",
       "      <td>0.67</td>\n",
       "      <td>0.67</td>\n",
       "    </tr>\n",
       "  </tbody>\n",
       "</table>\n",
       "<p>3327 rows × 179 columns</p>\n",
       "</div>"
      ],
      "text/plain": [
       "                             CODUSU  ANO4  TRIMESTRE  NRO_HOGAR  COMPONENTE  \\\n",
       "0     TQRMNOPPRHKMLNCDEIIAD00655703  2021          1          1           1   \n",
       "1     TQRMNOPPRHKMLNCDEIIAD00655703  2021          1          1           2   \n",
       "2     TQRMNOPPWHKMNUCDEIIAD00655837  2021          1          1           2   \n",
       "3     TQRMNOPPWHKMNUCDEIIAD00655837  2021          1          1           3   \n",
       "4     TQRMNOPPWHKMNUCDEIIAD00655837  2021          1          1           4   \n",
       "...                             ...   ...        ...        ...         ...   \n",
       "3322  TQUMNOQWTHLOTOCDEIJAH00698524  2021          1          1           2   \n",
       "3323  TQUMNORVRHMMLLCDEIJAH00698180  2021          1          1           1   \n",
       "3324  TQUMNORVRHMMLLCDEIJAH00698180  2021          1          1           2   \n",
       "3325  TQUMNORVRHMMLLCDEIJAH00698180  2021          1          1           3   \n",
       "3326  TQVMNOPYPHLOTOCDEIJAH00693364  2021          1          2           1   \n",
       "\n",
       "      H15  REGION MAS_500  AGLOMERADO  PONDERA  ...      IPCF  DECCFR IDECCFR  \\\n",
       "0       1       1       S          32     1394  ...  127500.0    10.0     0.0   \n",
       "1       1       1       S          32     1394  ...  127500.0    10.0     0.0   \n",
       "2       1       1       S          32     3090  ...       0.0    12.0     0.0   \n",
       "3       1       1       S          32     3090  ...       0.0    12.0     0.0   \n",
       "4       1       1       S          32     3090  ...       0.0    12.0     0.0   \n",
       "...   ...     ...     ...         ...      ...  ...       ...     ...     ...   \n",
       "3322    1       1       S          33     1745  ...   16650.0     4.0     0.0   \n",
       "3323    1       1       S          33     2064  ...    6400.0     1.0     0.0   \n",
       "3324    1       1       S          33     2064  ...    6400.0     1.0     0.0   \n",
       "3325    1       1       S          33     2064  ...    6400.0     1.0     0.0   \n",
       "3326    1       1       S          33     1318  ...   30000.0     7.0     0.0   \n",
       "\n",
       "      RDECCFR  GDECCFR  PDECCFR  ADECCFR  PONDIH  adulto_equiv  ad_equiv_hogar  \n",
       "0        10.0     10.0      0.0     10.0    2494          1.02            1.78  \n",
       "1        10.0     10.0      0.0     10.0    2494          0.76            1.78  \n",
       "2        12.0     12.0      0.0     12.0       0          0.76            3.44  \n",
       "3        12.0     12.0      0.0     12.0       0          0.76            3.44  \n",
       "4        12.0     12.0      0.0     12.0       0          1.02            3.44  \n",
       "...       ...      ...      ...      ...     ...           ...             ...  \n",
       "3322      4.0      4.0      0.0      5.0    2388          0.67            1.67  \n",
       "3323      1.0      1.0      0.0      1.0    3654          0.67            2.27  \n",
       "3324      1.0      1.0      0.0      1.0    3654          0.83            2.27  \n",
       "3325      1.0      1.0      0.0      1.0    3654          0.77            2.27  \n",
       "3326      7.0      7.0      0.0      7.0    1666          0.67            0.67  \n",
       "\n",
       "[3327 rows x 179 columns]"
      ]
     },
     "execution_count": 23,
     "metadata": {},
     "output_type": "execute_result"
    }
   ],
   "source": [
    "#agregamos la columnna \"ad_equiv_hogar\" al df eph\n",
    "eph = eph.merge(ad_equiv_hogar, on = \"CODUSU\", how = \"outer\")\n",
    "eph"
   ]
  },
  {
   "cell_type": "markdown",
   "id": "fa053f23",
   "metadata": {},
   "source": [
    "# 3"
   ]
  },
  {
   "cell_type": "code",
   "execution_count": 24,
   "id": "06fe111a",
   "metadata": {},
   "outputs": [
    {
     "data": {
      "text/plain": [
       "829"
      ]
     },
     "execution_count": 24,
     "metadata": {},
     "output_type": "execute_result"
    }
   ],
   "source": [
    "eph[eph[\"ITF\"] == 0].ITF.count()"
   ]
  },
  {
   "cell_type": "code",
   "execution_count": 25,
   "id": "bc3acd25",
   "metadata": {},
   "outputs": [],
   "source": [
    "# Divido la muestra de la EPH en gente que no respondio ingresos totales familiares (ITF) y los que sí.\n",
    "norespondieron = eph[eph[\"ITF\"] == 0]\n",
    "norespondieron.reset_index(inplace = True, drop = True)\n",
    "respondieron = eph[eph[\"ITF\"] != 0]\n",
    "respondieron.reset_index(inplace = True, drop = True)"
   ]
  },
  {
   "cell_type": "markdown",
   "id": "00189995",
   "metadata": {},
   "source": [
    "# 4"
   ]
  },
  {
   "cell_type": "code",
   "execution_count": 26,
   "id": "c568a73f",
   "metadata": {},
   "outputs": [
    {
     "name": "stderr",
     "output_type": "stream",
     "text": [
      "<ipython-input-26-d730b41ca59f>:4: SettingWithCopyWarning: \n",
      "A value is trying to be set on a copy of a slice from a DataFrame.\n",
      "Try using .loc[row_indexer,col_indexer] = value instead\n",
      "\n",
      "See the caveats in the documentation: https://pandas.pydata.org/pandas-docs/stable/user_guide/indexing.html#returning-a-view-versus-a-copy\n",
      "  respondieron[\"ingreso_necesario\"] = ingreso_adulto_min * respondieron[\"ad_equiv_hogar\"]\n"
     ]
    }
   ],
   "source": [
    "# Le agrego la columna ingreso_necesario que nos indica según el hogar, cuánto debe ganar para no ser\n",
    "# considerado pobre\n",
    "ingreso_adulto_min = 18914\n",
    "respondieron[\"ingreso_necesario\"] = ingreso_adulto_min * respondieron[\"ad_equiv_hogar\"]"
   ]
  },
  {
   "cell_type": "markdown",
   "id": "82ec546a",
   "metadata": {},
   "source": [
    "# 5"
   ]
  },
  {
   "cell_type": "code",
   "execution_count": 27,
   "id": "2cf1be72",
   "metadata": {
    "scrolled": false
   },
   "outputs": [
    {
     "name": "stderr",
     "output_type": "stream",
     "text": [
      "<ipython-input-27-382230067fb2>:3: SettingWithCopyWarning: \n",
      "A value is trying to be set on a copy of a slice from a DataFrame.\n",
      "Try using .loc[row_indexer,col_indexer] = value instead\n",
      "\n",
      "See the caveats in the documentation: https://pandas.pydata.org/pandas-docs/stable/user_guide/indexing.html#returning-a-view-versus-a-copy\n",
      "  respondieron[\"pobre\"] = (respondieron[\"ITF\"] < respondieron[\"ingreso_necesario\"]).astype(int)\n"
     ]
    }
   ],
   "source": [
    "# Creo una columna dummy, que dice si el individuo es pobre o no. Depende de si sus ingresos\n",
    "# son mayores a ingreso_necesario\n",
    "respondieron[\"pobre\"] = (respondieron[\"ITF\"] < respondieron[\"ingreso_necesario\"]).astype(int)"
   ]
  },
  {
   "cell_type": "code",
   "execution_count": 28,
   "id": "f0c35544",
   "metadata": {
    "scrolled": true
   },
   "outputs": [
    {
     "data": {
      "text/plain": [
       "838"
      ]
     },
     "execution_count": 28,
     "metadata": {},
     "output_type": "execute_result"
    }
   ],
   "source": [
    "respondieron.pobre.sum()"
   ]
  },
  {
   "cell_type": "markdown",
   "id": "364d302b",
   "metadata": {},
   "source": [
    "# Parte 2"
   ]
  },
  {
   "cell_type": "markdown",
   "id": "db7b793b",
   "metadata": {},
   "source": [
    "# 1"
   ]
  },
  {
   "cell_type": "code",
   "execution_count": 29,
   "id": "cd9a55c7",
   "metadata": {
    "scrolled": true
   },
   "outputs": [
    {
     "name": "stderr",
     "output_type": "stream",
     "text": [
      "C:\\Users\\felip\\anaconda3\\lib\\site-packages\\pandas\\core\\frame.py:4308: SettingWithCopyWarning: \n",
      "A value is trying to be set on a copy of a slice from a DataFrame\n",
      "\n",
      "See the caveats in the documentation: https://pandas.pydata.org/pandas-docs/stable/user_guide/indexing.html#returning-a-view-versus-a-copy\n",
      "  return super().drop(\n"
     ]
    }
   ],
   "source": [
    "# dropeo las columnas de ingresos\n",
    "respondieron.drop([\"PP08D1\", \"PP08D4\", \"PP08F1\", \"PP08F2\", \"PP08J1\", \"PP08J2\", \"PP08J3\", \"P21\", \"TOT_P12\", \"P47T\",\\\n",
    "                  \"V2_M\", \"V3_M\", \"V4_M\", \"V5_M\", \"V8_M\", \"V9_M\", \"V10_M\", \"V11_M\", \"V12_M\", \"V18_M\", \"V19_AM\",\\\n",
    "                   \"V21_M\", \"T_VI\", \"ITF\", \"IPCF\", \"ingreso_necesario\", \"ad_equiv_hogar\", \"adulto_equiv\"], axis = 1, inplace = True)\n",
    "norespondieron.drop([\"PP08D1\", \"PP08D4\", \"PP08F1\", \"PP08F2\", \"PP08J1\", \"PP08J2\", \"PP08J3\", \"P21\", \"TOT_P12\", \"P47T\",\\\n",
    "                  \"V2_M\", \"V3_M\", \"V4_M\", \"V5_M\", \"V8_M\", \"V9_M\", \"V10_M\", \"V11_M\", \"V12_M\", \"V18_M\", \"V19_AM\",\\\n",
    "                    \"V21_M\", \"T_VI\", \"ITF\", \"IPCF\", \"ad_equiv_hogar\", \"adulto_equiv\"], axis = 1, inplace = True)"
   ]
  },
  {
   "cell_type": "code",
   "execution_count": 30,
   "id": "1c298ab9",
   "metadata": {},
   "outputs": [
    {
     "name": "stderr",
     "output_type": "stream",
     "text": [
      "C:\\Users\\felip\\anaconda3\\lib\\site-packages\\pandas\\core\\series.py:4463: SettingWithCopyWarning: \n",
      "A value is trying to be set on a copy of a slice from a DataFrame\n",
      "\n",
      "See the caveats in the documentation: https://pandas.pydata.org/pandas-docs/stable/user_guide/indexing.html#returning-a-view-versus-a-copy\n",
      "  return super().fillna(\n",
      "C:\\Users\\felip\\anaconda3\\lib\\site-packages\\pandas\\core\\indexing.py:1754: SettingWithCopyWarning: \n",
      "A value is trying to be set on a copy of a slice from a DataFrame.\n",
      "Try using .loc[row_indexer,col_indexer] = value instead\n",
      "\n",
      "See the caveats in the documentation: https://pandas.pydata.org/pandas-docs/stable/user_guide/indexing.html#returning-a-view-versus-a-copy\n",
      "  self._setitem_single_column(loc, val, pi)\n"
     ]
    }
   ],
   "source": [
    "# Nos dimos cuenta tarde que me faltan cambiar algunas para que no aparezcan NaN y dropear las de deciles\n",
    "respondieron[\"CH14\"].fillna(99, inplace = True) #Muchos no respondieron entonces reemplazamos los missing por 99. \n",
    "respondieron.drop([\"CH15_COD\", \"CH16_COD\", \"PP03C\", \"PP03D\", \"CODUSU\", \"PP09A_ESP\", \"PP09C_ESP\", \"IDECOCUR\", \"PDECOCUR\", \\\n",
    "                   \"IDECINDR\", \"PDECINDR\"], axis = 1, inplace = True) # innecesarios (con muy pocas o ninguna observación) o de ingreso\n",
    "respondieron.iloc[:, 92:118] = respondieron.iloc[:, 92:118].fillna(0)\n",
    "respondieron.iloc[:, 39:92] = respondieron.iloc[:, 39:92].fillna(0) # Son subcategorías que dejaban muchos NaN porque solo responndían \n",
    "#algunos entonces reemplazamos los missing por 0. \n",
    "respondieron[\"IMPUTA\"].fillna(0, inplace = True) # Solo hay 4 imputados registrados, los demás eran NaN\n",
    "respondieron.drop([\"DECOCUR\", \"RDECOCUR\", \"GDECOCUR\", \"ADECOCUR\", \"PONDIIO\", \"DECIFR\", \"IDECIFR\", \"RDECIFR\", \"GDECIFR\",\\\n",
    "                   \"PONDII\", \"PONDIH\", \"PONDERA\", \"PDECIFR\", \"ADECIFR\", \"DECCFR\", \"IDECCFR\", \"RDECCFR\", \"GDECCFR\",\\\n",
    "                  \"PDECCFR\", \"ADECCFR\", \"DECINDR\", \"RDECINDR\", \"GDECINDR\", \"ADECINDR\", \"CH05\"], axis = 1, inplace = True) # todas deciles\n",
    "respondieron.reset_index(inplace = True, drop = True)"
   ]
  },
  {
   "cell_type": "code",
   "execution_count": 31,
   "id": "3076a72a",
   "metadata": {},
   "outputs": [],
   "source": [
    "#creamos una copia del dataframe para luego recuperar las columnas que no son categóricas\n",
    "respondieron_temp = respondieron.copy()"
   ]
  },
  {
   "cell_type": "code",
   "execution_count": 32,
   "id": "19f20d60",
   "metadata": {},
   "outputs": [],
   "source": [
    "# Herramienta para poder utilizar variables categóricas en los modelos.\n",
    "label_encoder = preprocessing.LabelEncoder()"
   ]
  },
  {
   "cell_type": "code",
   "execution_count": 33,
   "id": "550a71d3",
   "metadata": {},
   "outputs": [],
   "source": [
    "# Le aplico la herramienta al df\n",
    "respondieron = respondieron.apply(label_encoder.fit_transform)"
   ]
  },
  {
   "cell_type": "code",
   "execution_count": 34,
   "id": "ae07b89f",
   "metadata": {},
   "outputs": [],
   "source": [
    "#volvemos a introducir las columnas no categóricas \n",
    "respondieron[[\"PP3E_TOT\", \"PP3F_TOT\", \"PP04B2\", \"PP04B3_MES\", \"PP04B3_ANO\", \"PP04B3_DIA\", \\\n",
    "              \"PP05B2_MES\", \"PP05B2_ANO\", \"PP05B2_DIA\", \"PP11B2_MES\", \"PP11B2_ANO\", \"PP11B2_DIA\"]] \\\n",
    "= respondieron_temp[[\"PP3E_TOT\", \"PP3F_TOT\", \"PP04B2\", \"PP04B3_MES\", \"PP04B3_ANO\", \"PP04B3_DIA\", \\\n",
    "                     \"PP05B2_MES\", \"PP05B2_ANO\", \"PP05B2_DIA\", \"PP11B2_MES\", \"PP11B2_ANO\", \"PP11B2_DIA\"]]"
   ]
  },
  {
   "cell_type": "markdown",
   "id": "e8b284e6",
   "metadata": {},
   "source": [
    "# 2 y 3"
   ]
  },
  {
   "cell_type": "code",
   "execution_count": 36,
   "id": "5ba864db",
   "metadata": {},
   "outputs": [],
   "source": [
    "#Agregamos la columna de 1 \n",
    "respondieronx = respondieron.iloc[:, :-1]\n",
    "respondieronx[\"inter\"] = 1"
   ]
  },
  {
   "cell_type": "code",
   "execution_count": 37,
   "id": "f2e94233",
   "metadata": {},
   "outputs": [],
   "source": [
    "# Divido la muestra en 2 grupos, de entrenamiento y de evaluación. La variable pobre es la dependiente,\n",
    "# mientras que las variables explicativas son todas las demás columnas\n",
    "X_train, X_test, y_train, y_test = train_test_split(respondieronx\\\n",
    "                                                    , respondieron[\"pobre\"], test_size=0.3, random_state=101)"
   ]
  },
  {
   "cell_type": "code",
   "execution_count": 41,
   "id": "7f46e505",
   "metadata": {},
   "outputs": [],
   "source": [
    "X = respondieronx.copy()\n",
    "y = respondieron[\"pobre\"]"
   ]
  },
  {
   "cell_type": "markdown",
   "id": "c192e83c",
   "metadata": {},
   "source": [
    "# 4"
   ]
  },
  {
   "cell_type": "markdown",
   "id": "72702901",
   "metadata": {},
   "source": [
    "## Logit"
   ]
  },
  {
   "cell_type": "code",
   "execution_count": 37,
   "id": "f34573ba",
   "metadata": {
    "scrolled": false
   },
   "outputs": [],
   "source": [
    "# Defino en que variables se tiene que definir el modelo, uso las de entrenamiento.\n",
    "# Luego evalúo el modelo con la parte de evaluación.\n",
    "log_reg = LogisticRegression(max_iter = 5000, fit_intercept = False).fit(X_train, y_train)\n",
    "y_pred = log_reg.predict_proba(X_test)[:,1]"
   ]
  },
  {
   "cell_type": "code",
   "execution_count": 38,
   "id": "c8999cd6",
   "metadata": {},
   "outputs": [],
   "source": [
    "# Ajusto resultados para logit\n",
    "y_pred = np.where(y_pred > 0.5, 1, y_pred)\n",
    "y_pred = np.where(y_pred <= 0.5, 0, y_pred)"
   ]
  },
  {
   "cell_type": "code",
   "execution_count": 39,
   "id": "3db13ff3",
   "metadata": {},
   "outputs": [
    {
     "name": "stdout",
     "output_type": "stream",
     "text": [
      "Confusion Matrix :\n",
      "[[439  69]\n",
      " [101 141]]\n",
      "Accuracy Score : 0.7733333333333333\n"
     ]
    }
   ],
   "source": [
    "#Matriz de confusión \n",
    "matriz_confusion = confusion_matrix(y_test, y_pred)\n",
    "\n",
    "print('Confusion Matrix :')\n",
    "print(matriz_confusion) \n",
    "\n",
    "#Valores de Accuracy \n",
    "print('Accuracy Score :', accuracy_score(y_test, y_pred))"
   ]
  },
  {
   "cell_type": "code",
   "execution_count": 40,
   "id": "e9303499",
   "metadata": {},
   "outputs": [
    {
     "name": "stdout",
     "output_type": "stream",
     "text": [
      "AUC: 0.72\n"
     ]
    }
   ],
   "source": [
    "#Valores de AUC\n",
    "auc = roc_auc_score(y_test, y_pred)\n",
    "print('AUC: %.2f' % auc)\n",
    "fpr, tpr, thresholds = roc_curve(y_test, y_pred)"
   ]
  },
  {
   "cell_type": "code",
   "execution_count": 41,
   "id": "f2f6377d",
   "metadata": {
    "scrolled": true
   },
   "outputs": [
    {
     "data": {
      "image/png": "[encoded data removed]",
      "text/plain": [
       "<Figure size 432x288 with 1 Axes>"
      ]
     },
     "metadata": {
      "needs_background": "light"
     },
     "output_type": "display_data"
    }
   ],
   "source": [
    "#Curva ROC\n",
    "display = RocCurveDisplay(fpr=fpr, tpr=tpr, roc_auc=auc, estimator_name='Reg_log')\n",
    "display.plot()  \n",
    "plt.plot([0, 1], [0, 1], color='red', linestyle='--')\n",
    "plt.show() "
   ]
  },
  {
   "cell_type": "markdown",
   "id": "1766faa6",
   "metadata": {},
   "source": [
    "## Lineal"
   ]
  },
  {
   "cell_type": "code",
   "execution_count": 42,
   "id": "8d19ea90",
   "metadata": {},
   "outputs": [],
   "source": [
    "# Defino en que variables se tiene que definir el modelo, uso las de entrenamiento.\n",
    "pob = LinearDiscriminantAnalysis()\n",
    "pob = pob.fit(X_train, y_train)"
   ]
  },
  {
   "cell_type": "code",
   "execution_count": 43,
   "id": "8673c466",
   "metadata": {},
   "outputs": [],
   "source": [
    "# Luego evalúo el modelo con la parte de evaluación.\n",
    "y_pred_pob = pob.predict(X_test)"
   ]
  },
  {
   "cell_type": "code",
   "execution_count": 44,
   "id": "64d93183",
   "metadata": {
    "scrolled": true
   },
   "outputs": [
    {
     "name": "stdout",
     "output_type": "stream",
     "text": [
      "La precisión del modelo es: 0.772\n"
     ]
    }
   ],
   "source": [
    "#Valores de Accuracy\n",
    "accuracy_pob = accuracy_score(y_test, y_pred_pob)\n",
    "print(\"La precisión del modelo es: %.3f\" %accuracy_pob)"
   ]
  },
  {
   "cell_type": "code",
   "execution_count": 45,
   "id": "b235c04a",
   "metadata": {},
   "outputs": [
    {
     "name": "stdout",
     "output_type": "stream",
     "text": [
      "Confusion Matrix :\n",
      "[[438  70]\n",
      " [101 141]]\n",
      "Accuracy Score : 0.772\n"
     ]
    }
   ],
   "source": [
    "#Matriz de confusión\n",
    "matriz_confusion = confusion_matrix(y_test, y_pred_pob)\n",
    "\n",
    "print('Confusion Matrix :')\n",
    "print(matriz_confusion) \n",
    "print('Accuracy Score :', accuracy_score(y_test, y_pred_pob))"
   ]
  },
  {
   "cell_type": "code",
   "execution_count": 46,
   "id": "dae3b8a2",
   "metadata": {},
   "outputs": [
    {
     "name": "stdout",
     "output_type": "stream",
     "text": [
      "AUC: 0.72\n"
     ]
    }
   ],
   "source": [
    "#Valores de AUC\n",
    "auc_pob = roc_auc_score(y_test, y_pred_pob)\n",
    "print('AUC: %.2f' % auc_pob)\n",
    "fpr_pob, tpr_pob, thresholds_pob = roc_curve(y_test, y_pred_pob)"
   ]
  },
  {
   "cell_type": "code",
   "execution_count": 47,
   "id": "2693e509",
   "metadata": {
    "scrolled": false
   },
   "outputs": [
    {
     "data": {
      "image/png": "[encoded data removed]",
      "text/plain": [
       "<Figure size 432x288 with 1 Axes>"
      ]
     },
     "metadata": {
      "needs_background": "light"
     },
     "output_type": "display_data"
    }
   ],
   "source": [
    "#Curva ROC\n",
    "display = RocCurveDisplay(fpr=fpr_pob, tpr=tpr_pob, roc_auc=auc_pob, estimator_name='Reg_log')\n",
    "display.plot()  \n",
    "plt.plot([0, 1], [0, 1], color='red', linestyle='--')\n",
    "plt.show() "
   ]
  },
  {
   "cell_type": "markdown",
   "id": "bf77ddb6",
   "metadata": {},
   "source": [
    "## KNN"
   ]
  },
  {
   "cell_type": "code",
   "execution_count": 48,
   "id": "d53aa234",
   "metadata": {},
   "outputs": [],
   "source": [
    "# Defino en que variables se tiene que definir el modelo, uso las de entrenamiento. y defino el n_neighbors en 3\n",
    "# por como indica la consigna.\n",
    "knn = KNeighborsClassifier(n_neighbors=3)\n",
    "knn.fit(X_train, y_train)\n",
    "y_pred_knn = knn.predict(X_test)"
   ]
  },
  {
   "cell_type": "code",
   "execution_count": 49,
   "id": "e5d46ce1",
   "metadata": {},
   "outputs": [
    {
     "name": "stdout",
     "output_type": "stream",
     "text": [
      "La precisión del modelo es: 0.73\n"
     ]
    }
   ],
   "source": [
    "#Valores de Accuracy\n",
    "accuracy_knn = accuracy_score(y_test, y_pred_knn)\n",
    "print(\"La precisión del modelo es: %.2f\" %accuracy_knn)"
   ]
  },
  {
   "cell_type": "code",
   "execution_count": 50,
   "id": "c84b03c3",
   "metadata": {},
   "outputs": [
    {
     "name": "stdout",
     "output_type": "stream",
     "text": [
      "Confusion Matrix :\n",
      "[[406 102]\n",
      " [ 97 145]]\n",
      "Accuracy Score : 0.7346666666666667\n"
     ]
    }
   ],
   "source": [
    "#Matriz de confusión\n",
    "matriz_confusion = confusion_matrix(y_test, y_pred_knn)\n",
    "\n",
    "print('Confusion Matrix :')\n",
    "print(matriz_confusion) \n",
    "print('Accuracy Score :', accuracy_score(y_test, y_pred_knn))"
   ]
  },
  {
   "cell_type": "code",
   "execution_count": 51,
   "id": "d75093e8",
   "metadata": {},
   "outputs": [
    {
     "name": "stdout",
     "output_type": "stream",
     "text": [
      "AUC: 0.70\n"
     ]
    }
   ],
   "source": [
    "#Valores de AUC\n",
    "auc_knn = roc_auc_score(y_test, y_pred_knn)\n",
    "print('AUC: %.2f' % auc_knn)\n",
    "fpr_knn, tpr_knn, thresholds_knn = roc_curve(y_test, y_pred_knn)"
   ]
  },
  {
   "cell_type": "code",
   "execution_count": 52,
   "id": "c719d10a",
   "metadata": {
    "scrolled": true
   },
   "outputs": [
    {
     "data": {
      "image/png": "[encoded data removed]",
      "text/plain": [
       "<Figure size 432x288 with 1 Axes>"
      ]
     },
     "metadata": {
      "needs_background": "light"
     },
     "output_type": "display_data"
    }
   ],
   "source": [
    "#Curva ROC\n",
    "display = RocCurveDisplay(fpr=fpr_knn, tpr=tpr_knn, roc_auc=auc_knn, estimator_name='Reg_log')\n",
    "display.plot()  \n",
    "plt.plot([0, 1], [0, 1], color='red', linestyle='--')\n",
    "plt.show() "
   ]
  },
  {
   "cell_type": "markdown",
   "id": "ad638777",
   "metadata": {},
   "source": [
    "# 6"
   ]
  },
  {
   "cell_type": "code",
   "execution_count": 53,
   "id": "7587a78a",
   "metadata": {
    "scrolled": true
   },
   "outputs": [
    {
     "name": "stderr",
     "output_type": "stream",
     "text": [
      "C:\\Users\\felip\\anaconda3\\lib\\site-packages\\pandas\\core\\series.py:4463: SettingWithCopyWarning: \n",
      "A value is trying to be set on a copy of a slice from a DataFrame\n",
      "\n",
      "See the caveats in the documentation: https://pandas.pydata.org/pandas-docs/stable/user_guide/indexing.html#returning-a-view-versus-a-copy\n",
      "  return super().fillna(\n",
      "C:\\Users\\felip\\anaconda3\\lib\\site-packages\\pandas\\core\\frame.py:4308: SettingWithCopyWarning: \n",
      "A value is trying to be set on a copy of a slice from a DataFrame\n",
      "\n",
      "See the caveats in the documentation: https://pandas.pydata.org/pandas-docs/stable/user_guide/indexing.html#returning-a-view-versus-a-copy\n",
      "  return super().drop(\n",
      "C:\\Users\\felip\\anaconda3\\lib\\site-packages\\pandas\\core\\indexing.py:1754: SettingWithCopyWarning: \n",
      "A value is trying to be set on a copy of a slice from a DataFrame.\n",
      "Try using .loc[row_indexer,col_indexer] = value instead\n",
      "\n",
      "See the caveats in the documentation: https://pandas.pydata.org/pandas-docs/stable/user_guide/indexing.html#returning-a-view-versus-a-copy\n",
      "  self._setitem_single_column(loc, val, pi)\n"
     ]
    }
   ],
   "source": [
    "# Hago lo mismo que hice al principio de la parte II con norespondieron\n",
    "norespondieron[\"CH14\"].fillna(99, inplace = True)\n",
    "norespondieron.drop([\"CH15_COD\", \"CH16_COD\", \"PP03C\", \"PP03D\", \"CODUSU\", \"PP09A_ESP\", \"PP09C_ESP\", \"IDECOCUR\", \"PDECOCUR\", \\\n",
    "                   \"IDECINDR\", \"PDECINDR\"], axis = 1, inplace = True)\n",
    "norespondieron.iloc[:, 92:118] = norespondieron.iloc[:, 92:118].fillna(0)\n",
    "norespondieron.iloc[:, 39:92] = norespondieron.iloc[:, 39:92].fillna(0)\n",
    "norespondieron[\"IMPUTA\"].fillna(0, inplace = True)\n",
    "norespondieron.drop([\"DECOCUR\", \"RDECOCUR\", \"GDECOCUR\", \"ADECOCUR\", \"PONDIIO\", \"DECIFR\", \"IDECIFR\", \"RDECIFR\", \"GDECIFR\",\\\n",
    "                   \"PONDII\", \"PONDIH\", \"PONDERA\", \"PDECIFR\", \"ADECIFR\", \"DECCFR\", \"IDECCFR\", \"RDECCFR\", \"GDECCFR\",\\\n",
    "                  \"PDECCFR\", \"ADECCFR\", \"DECINDR\", \"RDECINDR\", \"GDECINDR\", \"ADECINDR\"], axis = 1, inplace = True)\n",
    "norespondieron.reset_index(inplace = True, drop = True)"
   ]
  },
  {
   "cell_type": "code",
   "execution_count": 54,
   "id": "abb93f2a",
   "metadata": {},
   "outputs": [],
   "source": [
    "#creamos una copia del dataframe para luego recuperar las columnas que no son categóricas\n",
    "norespondieron_temp = norespondieron.copy()"
   ]
  },
  {
   "cell_type": "code",
   "execution_count": 55,
   "id": "1e3e0255",
   "metadata": {},
   "outputs": [],
   "source": [
    "# Le aplico el label ecoder\n",
    "norespondieron = norespondieron.apply(label_encoder.fit_transform)\n"
   ]
  },
  {
   "cell_type": "code",
   "execution_count": 56,
   "id": "47549a79",
   "metadata": {},
   "outputs": [],
   "source": [
    "#volvemos a introducir las columnas no categóricas \n",
    "norespondieron[[\"PP3E_TOT\", \"PP3F_TOT\", \"PP04B2\", \"PP04B3_MES\", \\\n",
    "                \"PP04B3_ANO\", \"PP04B3_DIA\", \"PP05B2_MES\", \"PP05B2_ANO\", \\\n",
    "                \"PP05B2_DIA\", \"PP11B2_MES\", \"PP11B2_ANO\", \"PP11B2_DIA\"]] = \\\n",
    "norespondieron_temp[[\"PP3E_TOT\", \"PP3F_TOT\", \"PP04B2\", \"PP04B3_MES\", \"PP04B3_ANO\", \\\n",
    "                     \"PP04B3_DIA\", \"PP05B2_MES\", \"PP05B2_ANO\", \"PP05B2_DIA\", \\\n",
    "                     \"PP11B2_MES\", \"PP11B2_ANO\", \"PP11B2_DIA\"]]"
   ]
  },
  {
   "cell_type": "code",
   "execution_count": 57,
   "id": "23774dcf",
   "metadata": {},
   "outputs": [],
   "source": [
    "# Le aplico el modelo a norespondieron\n",
    "y_pred_nr = log_reg.predict(norespondieron)"
   ]
  },
  {
   "cell_type": "code",
   "execution_count": 58,
   "id": "1cc9d5fe",
   "metadata": {},
   "outputs": [
    {
     "data": {
      "text/plain": [
       "336"
      ]
     },
     "execution_count": 58,
     "metadata": {},
     "output_type": "execute_result"
    }
   ],
   "source": [
    "# Me responde la cantidad de personas pobres que predice el modelo en norespondieron\n",
    "y_pred_nr.sum()"
   ]
  },
  {
   "cell_type": "code",
   "execution_count": 59,
   "id": "b9190140",
   "metadata": {},
   "outputs": [
    {
     "data": {
      "text/plain": [
       "0.40530759951749096"
      ]
     },
     "execution_count": 59,
     "metadata": {},
     "output_type": "execute_result"
    }
   ],
   "source": [
    "#Obtenemos la proporcion de pobres sobre el total de los individuos que no respondieron\n",
    "y_pred_nr.sum()/829"
   ]
  },
  {
   "cell_type": "markdown",
   "id": "63415b3b",
   "metadata": {},
   "source": [
    "# 7"
   ]
  },
  {
   "cell_type": "code",
   "execution_count": 60,
   "id": "65d34fac",
   "metadata": {},
   "outputs": [],
   "source": [
    "#Creamos un nuevo data frame con las variables que creemos relevantes para predecir \n",
    "respondieron_filtro=respondieron[[\"AGLOMERADO\", \"MAS_500\", \"CH04\", \"CH06\", \"CH08\",\\\n",
    "                                  \"CH09\", \"CH10\", \"CH11\", \"CH12\", \"CH13\", \"CH14\", \"CH15\",\\\n",
    "                                  \"CH16\", \"NIVEL_ED\", \"ESTADO\", \"CAT_OCUP\", \"CAT_INAC\",\\\n",
    "                                  \"PP02E\", \"PP02H\", \"PP02I\", \"PP3E_TOT\", \"PP3F_TOT\",\\\n",
    "                                  \"PP03G\", \"PP03H\", \"PP03I\", \"INTENSI\",\"PP11T\", \"PP11S\", \"PP11R\",\\\n",
    "                                  \"PP11O\", \"PP11N\", \"PP11L1\", \"PP11C\", \"PP10D\", \"PP10A\", \"PP10C\", \\\n",
    "                                  \"PP10E\", \"PP09C\", \"PP07J\", \"PP07K\", \"PP07I\", \"PP07H\", \"PP07G4\", \\\n",
    "                                  \"PP07G_59\", \"PP07G2\", \"PP07D\", \"PP07C\", \"PP07A\", \"PP05H\", \"PP04G\"]]"
   ]
  },
  {
   "cell_type": "code",
   "execution_count": 61,
   "id": "4029347d",
   "metadata": {},
   "outputs": [],
   "source": [
    "# Dividimos la muestra en 2 grupos, de entrenamiento y de evaluación. La variable pobre es la dependiente,\n",
    "# mientras que las variables explicativas son todas las demás columnas\n",
    "X_train, X_test, y_train, y_test = train_test_split(respondieron_filtro\\\n",
    "                                                    , respondieron[\"pobre\"], test_size=0.3, random_state=101)"
   ]
  },
  {
   "cell_type": "code",
   "execution_count": 74,
   "id": "6867cf45",
   "metadata": {},
   "outputs": [],
   "source": [
    "# Defino en que variables se tiene que definir el modelo, uso las de entrenamiento.\n",
    "# Luego evalúo el modelo con la parte de evaluación.\n",
    "log_reg = LogisticRegression(max_iter = 1500, fit_intercept = True).fit(X_train, y_train)\n",
    "y_pred  = log_reg.predict_proba(X_test)[:,1]"
   ]
  },
  {
   "cell_type": "code",
   "execution_count": 75,
   "id": "91787cbc",
   "metadata": {},
   "outputs": [],
   "source": [
    "# Ajusto resultados para logit\n",
    "y_pred = np.where(y_pred > 0.5, 1, y_pred)\n",
    "y_pred = np.where(y_pred <= 0.5, 0, y_pred)"
   ]
  },
  {
   "cell_type": "code",
   "execution_count": 76,
   "id": "52d56adb",
   "metadata": {},
   "outputs": [
    {
     "name": "stdout",
     "output_type": "stream",
     "text": [
      "Confusion Matrix :\n",
      "[[441  67]\n",
      " [101 141]]\n",
      "Accuracy Score : 0.776\n"
     ]
    }
   ],
   "source": [
    "#Matriz de confusión \n",
    "matriz_confusion = confusion_matrix(y_test, y_pred)\n",
    "\n",
    "print('Confusion Matrix :')\n",
    "print(matriz_confusion) \n",
    "\n",
    "#Valores de Accuracy \n",
    "print('Accuracy Score :', accuracy_score(y_test, y_pred))"
   ]
  },
  {
   "cell_type": "code",
   "execution_count": 77,
   "id": "f156f0d9",
   "metadata": {},
   "outputs": [
    {
     "name": "stdout",
     "output_type": "stream",
     "text": [
      "AUC: 0.73\n"
     ]
    }
   ],
   "source": [
    "#Valores de AUC\n",
    "auc = roc_auc_score(y_test, y_pred)\n",
    "print('AUC: %.2f' % auc)\n",
    "fpr, tpr, thresholds = roc_curve(y_test, y_pred)"
   ]
  },
  {
   "cell_type": "code",
   "execution_count": 78,
   "id": "21895139",
   "metadata": {},
   "outputs": [
    {
     "data": {
      "image/png": "[encoded data removed]",
      "text/plain": [
       "<Figure size 432x288 with 1 Axes>"
      ]
     },
     "metadata": {
      "needs_background": "light"
     },
     "output_type": "display_data"
    }
   ],
   "source": [
    "#Curva ROC\n",
    "display = RocCurveDisplay(fpr=fpr, tpr=tpr, roc_auc=auc, estimator_name='Reg_log')\n",
    "display.plot()  \n",
    "plt.plot([0, 1], [0, 1], color='red', linestyle='--')\n",
    "plt.show() "
   ]
  },
  {
   "cell_type": "code",
   "execution_count": 79,
   "id": "e4e24e00",
   "metadata": {},
   "outputs": [],
   "source": [
    "# Ajusto norespondieron a el nuevo modelo para poder predecir.\n",
    "norespondieron = norespondieron[[\"AGLOMERADO\", \"MAS_500\", \"CH04\", \"CH06\", \"CH08\",\\\n",
    "                                  \"CH09\", \"CH10\", \"CH11\", \"CH12\", \"CH13\", \"CH14\", \"CH15\",\\\n",
    "                                  \"CH16\", \"NIVEL_ED\", \"ESTADO\", \"CAT_OCUP\", \"CAT_INAC\",\\\n",
    "                                  \"PP02E\", \"PP02H\", \"PP02I\", \"PP3E_TOT\", \"PP3F_TOT\",\\\n",
    "                                  \"PP03G\", \"PP03H\", \"PP03I\", \"INTENSI\",\"PP11T\", \"PP11S\", \"PP11R\",\\\n",
    "                                  \"PP11O\", \"PP11N\", \"PP11L1\", \"PP11C\", \"PP10D\", \"PP10A\", \"PP10C\", \\\n",
    "                                  \"PP10E\", \"PP09C\", \"PP07J\", \"PP07K\", \"PP07I\", \"PP07H\", \"PP07G4\", \\\n",
    "                                  \"PP07G_59\", \"PP07G2\", \"PP07D\", \"PP07C\", \"PP07A\", \"PP05H\", \"PP04G\"]]"
   ]
  },
  {
   "cell_type": "code",
   "execution_count": 80,
   "id": "387bf0fa",
   "metadata": {},
   "outputs": [],
   "source": [
    "# Le aplico el nuevo modelo a norespondieron\n",
    "y_pred_nr = log_reg.predict(norespondieron)"
   ]
  },
  {
   "cell_type": "code",
   "execution_count": 81,
   "id": "43b462ec",
   "metadata": {},
   "outputs": [
    {
     "data": {
      "text/plain": [
       "236"
      ]
     },
     "execution_count": 81,
     "metadata": {},
     "output_type": "execute_result"
    }
   ],
   "source": [
    "# Me responde la cantidad de personas pobres que predice el modelo en norespondieron\n",
    "y_pred_nr.sum()"
   ]
  },
  {
   "cell_type": "code",
   "execution_count": 82,
   "id": "457383cc",
   "metadata": {},
   "outputs": [
    {
     "data": {
      "text/plain": [
       "0.28468033775633295"
      ]
     },
     "execution_count": 82,
     "metadata": {},
     "output_type": "execute_result"
    }
   ],
   "source": [
    "#Obtenemos la proporcion de pobres sobre el total de los individuos que no respondieron\n",
    "y_pred_nr.sum()/829"
   ]
  }
 ],
 "metadata": {
  "kernelspec": {
   "display_name": "Python 3",
   "language": "python",
   "name": "python3"
  },
  "language_info": {
   "codemirror_mode": {
    "name": "ipython",
    "version": 3
   },
   "file_extension": ".py",
   "mimetype": "text/x-python",
   "name": "python",
   "nbconvert_exporter": "python",
   "pygments_lexer": "ipython3",
   "version": "3.8.8"
  }
 },
 "nbformat": 4,
 "nbformat_minor": 5
}
